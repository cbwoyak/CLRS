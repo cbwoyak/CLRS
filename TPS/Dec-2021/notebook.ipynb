{
  "nbformat": 4,
  "nbformat_minor": 0,
  "metadata": {
    "colab": {
      "name": "playground_series_12_2021.ipynb",
      "provenance": [],
      "collapsed_sections": [],
      "authorship_tag": "ABX9TyPOYtvD4e/C4/qClaECxJPu",
      "include_colab_link": true
    },
    "kernelspec": {
      "name": "python3",
      "display_name": "Python 3"
    },
    "language_info": {
      "name": "python"
    }
  },
  "cells": [
    {
      "cell_type": "markdown",
      "metadata": {
        "id": "view-in-github",
        "colab_type": "text"
      },
      "source": [
        "<a href=\"https://colab.research.google.com/github/cbwoyak/CLRS/blob/main/TPS/Dec-2021/notebook.ipynb\" target=\"_parent\"><img src=\"https://colab.research.google.com/assets/colab-badge.svg\" alt=\"Open In Colab\"/></a>"
      ]
    },
    {
      "cell_type": "code",
      "source": [
        "!pip install ipython-autotime\n",
        "%load_ext autotime"
      ],
      "metadata": {
        "colab": {
          "base_uri": "https://localhost:8080/"
        },
        "id": "gtcWCXgzw7Aw",
        "outputId": "a060a03d-ae89-4d9a-aa2c-cf0f43700d41"
      },
      "execution_count": null,
      "outputs": [
        {
          "output_type": "stream",
          "name": "stdout",
          "text": [
            "Collecting ipython-autotime\n",
            "  Downloading ipython_autotime-0.3.1-py2.py3-none-any.whl (6.8 kB)\n",
            "Requirement already satisfied: ipython in /usr/local/lib/python3.7/dist-packages (from ipython-autotime) (5.5.0)\n",
            "Requirement already satisfied: pygments in /usr/local/lib/python3.7/dist-packages (from ipython->ipython-autotime) (2.6.1)\n",
            "Requirement already satisfied: pexpect in /usr/local/lib/python3.7/dist-packages (from ipython->ipython-autotime) (4.8.0)\n",
            "Requirement already satisfied: setuptools>=18.5 in /usr/local/lib/python3.7/dist-packages (from ipython->ipython-autotime) (57.4.0)\n",
            "Requirement already satisfied: prompt-toolkit<2.0.0,>=1.0.4 in /usr/local/lib/python3.7/dist-packages (from ipython->ipython-autotime) (1.0.18)\n",
            "Requirement already satisfied: pickleshare in /usr/local/lib/python3.7/dist-packages (from ipython->ipython-autotime) (0.7.5)\n",
            "Requirement already satisfied: simplegeneric>0.8 in /usr/local/lib/python3.7/dist-packages (from ipython->ipython-autotime) (0.8.1)\n",
            "Requirement already satisfied: traitlets>=4.2 in /usr/local/lib/python3.7/dist-packages (from ipython->ipython-autotime) (5.1.1)\n",
            "Requirement already satisfied: decorator in /usr/local/lib/python3.7/dist-packages (from ipython->ipython-autotime) (4.4.2)\n",
            "Requirement already satisfied: wcwidth in /usr/local/lib/python3.7/dist-packages (from prompt-toolkit<2.0.0,>=1.0.4->ipython->ipython-autotime) (0.2.5)\n",
            "Requirement already satisfied: six>=1.9.0 in /usr/local/lib/python3.7/dist-packages (from prompt-toolkit<2.0.0,>=1.0.4->ipython->ipython-autotime) (1.15.0)\n",
            "Requirement already satisfied: ptyprocess>=0.5 in /usr/local/lib/python3.7/dist-packages (from pexpect->ipython->ipython-autotime) (0.7.0)\n",
            "Installing collected packages: ipython-autotime\n",
            "Successfully installed ipython-autotime-0.3.1\n",
            "time: 2.51 ms (started: 2021-12-26 00:06:56 +00:00)\n"
          ]
        }
      ]
    },
    {
      "cell_type": "code",
      "source": [
        "# Allow custom module imports from Google Drive\n",
        "from google.colab import drive\n",
        "import sys\n",
        "drive.mount('/content/gdrive')\n",
        "sys.path.append('/content/gdrive/MyDrive/modules')"
      ],
      "metadata": {
        "colab": {
          "base_uri": "https://localhost:8080/"
        },
        "id": "faDNPBBPql39",
        "outputId": "9acd3c13-087b-48b6-ccfd-fb836b22b51b"
      },
      "execution_count": null,
      "outputs": [
        {
          "output_type": "stream",
          "name": "stdout",
          "text": [
            "Mounted at /content/gdrive\n",
            "time: 37.7 s (started: 2021-12-26 00:06:56 +00:00)\n"
          ]
        }
      ]
    },
    {
      "cell_type": "code",
      "source": [
        "# install and setup Kaggle API\n",
        "!pip install -q kaggle\n",
        "!pip install --upgrade --force-reinstall --no-deps kaggle\n",
        "\n",
        "!mkdir -p ~/.kaggle\n",
        "!cp /content/gdrive/MyDrive/kaggle.json ~/.kaggle/\n",
        "!chmod 600 ~/.kaggle/kaggle.json"
      ],
      "metadata": {
        "colab": {
          "base_uri": "https://localhost:8080/"
        },
        "id": "xo9DyjmKqeDZ",
        "outputId": "6bf2cc3a-532a-4202-c572-c4dd227f8c91"
      },
      "execution_count": null,
      "outputs": [
        {
          "output_type": "stream",
          "name": "stdout",
          "text": [
            "Collecting kaggle\n",
            "  Downloading kaggle-1.5.12.tar.gz (58 kB)\n",
            "\u001b[?25l\r\u001b[K     |█████▋                          | 10 kB 24.4 MB/s eta 0:00:01\r\u001b[K     |███████████▏                    | 20 kB 27.4 MB/s eta 0:00:01\r\u001b[K     |████████████████▊               | 30 kB 18.9 MB/s eta 0:00:01\r\u001b[K     |██████████████████████▎         | 40 kB 16.5 MB/s eta 0:00:01\r\u001b[K     |███████████████████████████▉    | 51 kB 7.1 MB/s eta 0:00:01\r\u001b[K     |████████████████████████████████| 58 kB 4.2 MB/s \n",
            "\u001b[?25hBuilding wheels for collected packages: kaggle\n",
            "  Building wheel for kaggle (setup.py) ... \u001b[?25l\u001b[?25hdone\n",
            "  Created wheel for kaggle: filename=kaggle-1.5.12-py3-none-any.whl size=73051 sha256=608c2a6318fcc46593bd29c6c4c10e4dbe2797a614e9c5aada28681ba7b1537f\n",
            "  Stored in directory: /root/.cache/pip/wheels/62/d6/58/5853130f941e75b2177d281eb7e44b4a98ed46dd155f556dc5\n",
            "Successfully built kaggle\n",
            "Installing collected packages: kaggle\n",
            "  Attempting uninstall: kaggle\n",
            "    Found existing installation: kaggle 1.5.12\n",
            "    Uninstalling kaggle-1.5.12:\n",
            "      Successfully uninstalled kaggle-1.5.12\n",
            "Successfully installed kaggle-1.5.12\n",
            "time: 5.91 s (started: 2021-12-26 00:07:34 +00:00)\n"
          ]
        }
      ]
    },
    {
      "cell_type": "code",
      "source": [
        "# Download kaggle competition files\n",
        "%env COMP=tabular-playground-series-dec-2021\n",
        "!kaggle competitions download -c $COMP\n",
        "!unzip ${COMP}.zip"
      ],
      "metadata": {
        "colab": {
          "base_uri": "https://localhost:8080/"
        },
        "id": "lBWUTr5LsLEF",
        "outputId": "f02fc178-4484-4b4b-bb70-7b6376010bc0"
      },
      "execution_count": null,
      "outputs": [
        {
          "output_type": "stream",
          "name": "stdout",
          "text": [
            "env: COMP=tabular-playground-series-dec-2021\n",
            "Downloading tabular-playground-series-dec-2021.zip to /content\n",
            " 90% 113M/126M [00:02<00:00, 42.2MB/s] \n",
            "100% 126M/126M [00:02<00:00, 51.5MB/s]\n",
            "Archive:  tabular-playground-series-dec-2021.zip\n",
            "  inflating: sample_submission.csv   \n",
            "  inflating: test.csv                \n",
            "  inflating: train.csv               \n",
            "time: 8.68 s (started: 2021-12-26 00:07:40 +00:00)\n"
          ]
        }
      ]
    },
    {
      "cell_type": "code",
      "source": [
        "import pandas as pd\n",
        "import numpy as np\n",
        "import math\n",
        "import imblearn\n",
        "\n",
        "from sklearn import preprocessing\n",
        "\n",
        "from sklearn.neighbors import KNeighborsClassifier  #KNN\n",
        "from sklearn.model_selection import cross_val_score # cross validation\n",
        "from sklearn.tree import DecisionTreeClassifier #DT\n",
        "from sklearn.ensemble import BaggingClassifier #Bagging\n",
        "from sklearn.ensemble import GradientBoostingClassifier #Gradient boosting\n",
        "from sklearn.ensemble import AdaBoostClassifier\n",
        "from sklearn.ensemble import RandomForestClassifier\n",
        "from sklearn.model_selection import GridSearchCV\n",
        "from sklearn.model_selection import ShuffleSplit\n",
        "\n",
        "from sklearn.feature_selection import VarianceThreshold\n",
        "\n",
        "import matplotlib.pyplot as plt\n",
        "import kaggle_utils\n"
      ],
      "metadata": {
        "id": "egdRT-DP_-33",
        "colab": {
          "base_uri": "https://localhost:8080/"
        },
        "outputId": "434dfde3-85a7-4fe6-93f8-52ed87a46a7b"
      },
      "execution_count": null,
      "outputs": [
        {
          "output_type": "stream",
          "name": "stdout",
          "text": [
            "time: 1.32 s (started: 2021-12-26 00:19:02 +00:00)\n"
          ]
        }
      ]
    },
    {
      "cell_type": "markdown",
      "source": [
        "# sklearn utilities"
      ],
      "metadata": {
        "id": "QPw3ujaNl4zd"
      }
    },
    {
      "cell_type": "code",
      "source": [
        "def cross_validate(clf, dataset, folds=5, shuffle=False):\n",
        "  if shuffle:\n",
        "    cv = ShuffleSplit(n_splits=folds, test_size=0.25, random_state=0)\n",
        "    score = cross_val_score(clf, dataset.X(), dataset.Y(), cv=cv, verbose=10).mean()\n",
        "  else:\n",
        "    score = cross_val_score(clf, dataset.X(), dataset.Y(), cv=folds, verbose=10).mean()\n",
        "\n",
        "  print(\"Average score: {:.5f}\".format(score))\n"
      ],
      "metadata": {
        "id": "KQg_cPE-l4lp",
        "colab": {
          "base_uri": "https://localhost:8080/"
        },
        "outputId": "1d304d9b-2589-44f5-b268-5b631fffd3eb"
      },
      "execution_count": null,
      "outputs": [
        {
          "output_type": "stream",
          "name": "stdout",
          "text": [
            "time: 4.08 ms (started: 2021-12-26 00:19:07 +00:00)\n"
          ]
        }
      ]
    },
    {
      "cell_type": "code",
      "source": [
        "def param_search(clf, X, Y, params, folds=2, shuffle=False):\n",
        "  search = GridSearchCV(clf, param_grid=params, cv=folds)\n",
        "  if shuffle:\n",
        "    cv = ShuffleSplit(n_splits=folds, test_size=0.25, random_state=0)\n",
        "    search = GridSearchCV(clf, param_grid=params, verbose=3, cv=cv, scoring=['f1_macro', 'balanced_accuracy'], refit=False)\n",
        "    \n",
        "  search.fit(X, Y)\n",
        "  return search.cv_results_"
      ],
      "metadata": {
        "colab": {
          "base_uri": "https://localhost:8080/"
        },
        "id": "MzYE5cxnxVQW",
        "outputId": "20df52b3-8299-4bd0-e216-45506dd1e08e"
      },
      "execution_count": null,
      "outputs": [
        {
          "output_type": "stream",
          "name": "stdout",
          "text": [
            "time: 5.85 ms (started: 2021-12-26 00:19:10 +00:00)\n"
          ]
        }
      ]
    },
    {
      "cell_type": "code",
      "source": [
        "class CvResults():\n",
        "  def __init__(self, results):\n",
        "    self.data = results\n",
        "\n",
        "  def keys(self):\n",
        "    return self.data.keys()\n",
        "\n",
        "  def get_param_names(self):\n",
        "    return list(self['params'][0].keys())\n",
        "\n",
        "  def get_experiment(self, idx):\n",
        "    if idx < 0 or idx > self.experiment_count():\n",
        "      return None\n",
        "    return self['params'][idx]\n",
        "\n",
        "  def experiment_count(self):\n",
        "    return len(self['params'])\n",
        "\n",
        "  def get_score_names(self):\n",
        "    return [score[len('rank_test_'):] for score in self.keys() if score.startswith('rank_test_')]\n",
        "\n",
        "  def get_best_experiment(self, criteria):\n",
        "    if criteria not in self.get_score_names():\n",
        "      return None\n",
        "\n",
        "    key = 'rank_test_' + criteria\n",
        "    idx = np.where(self[key] == 1)[0][0]\n",
        "    print(type(idx))\n",
        "    print(idx)\n",
        "    return self.get_experiment(idx)\n",
        "\n",
        "  def get_param_values(self, param):\n",
        "    values = set(self[f'param_{param}'])\n",
        "    return sorted(list(values))\n",
        "\n",
        "  def plot(self, param1, param2, score):\n",
        "    if score not in self.get_score_names():\n",
        "      print(\"bad score\")\n",
        "      return\n",
        "    if param1 not in self.get_param_names():\n",
        "      print(\"bad param: {}\".format(param1))\n",
        "      return\n",
        "    if param2 not in self.get_param_names():\n",
        "      print(\"bad param: {}\".format(param2))\n",
        "      return\n",
        "\n",
        "    x_values = self.get_param_values(param1)\n",
        "    y_values = self.get_param_values(param2)\n",
        "    data = self[f'mean_test_{score}'].reshape((len(y_values), len(x_values)))\n",
        "\n",
        "    # plot param1 vs param 2 and score values using matplotlib\n",
        "    fig, ax = plt.subplots(1)\n",
        "    ax.imshow(data)\n",
        "    ax.set_xticks(np.arange(len(x_values)))\n",
        "    ax.set_yticks(np.arange(len(y_values)))\n",
        "    # ... and label them with the respective list entries\n",
        "    ax.set_xticklabels(['{:.3f}'.format(x) if isinstance(x, float) else x for x in x_values])\n",
        "    ax.set_yticklabels(['{:.3f}'.format(x) if isinstance(x, float) else x for x in y_values])\n",
        "\n",
        "    plt.xlabel(param1)\n",
        "    plt.ylabel(param2)\n",
        "\n",
        "    max = np.amax(data)\n",
        "    max_diff = max - np.amin(data)\n",
        "    for i in range(len(y_values)):\n",
        "        for j in range(len(x_values)):\n",
        "          color = 'w'\n",
        "          diff = max - data[i,j]\n",
        "          if (diff < 0.4 * max_diff):\n",
        "            # in the top 40%, so change the color so the text can be seen more \n",
        "            # clearly with the default colormap\n",
        "            color = '#000000'\n",
        "          text = ax.text(j, i, '{:.3f}'.format(data[i, j]),\n",
        "                        ha=\"center\", va=\"center\", color=color)\n",
        "            \n",
        "    ax.set_title(score)\n",
        "\n",
        "    fig.tight_layout()\n",
        "    fig.set_size_inches(25, 10)\n",
        "    plt.show()\n",
        "\n",
        "  def __getitem__(self, key):\n",
        "    return self.data[key]\n"
      ],
      "metadata": {
        "colab": {
          "base_uri": "https://localhost:8080/"
        },
        "id": "-1Atbw9L-NjS",
        "outputId": "4bd9e71d-860f-40a8-8f84-188883e9f4df"
      },
      "execution_count": null,
      "outputs": [
        {
          "output_type": "stream",
          "name": "stdout",
          "text": [
            "time: 76.2 ms (started: 2021-12-26 00:19:11 +00:00)\n"
          ]
        }
      ]
    },
    {
      "cell_type": "markdown",
      "source": [
        "---"
      ],
      "metadata": {
        "id": "DcrwykuHl6Nh"
      }
    },
    {
      "cell_type": "markdown",
      "source": [
        "# Pandas Utils"
      ],
      "metadata": {
        "id": "VWMNOohMER3B"
      }
    },
    {
      "cell_type": "code",
      "source": [
        "def rescale(old_min, old_max, new_min, new_max, value):\n",
        "  return (value - old_min) / (old_max - old_min) * (new_max - new_min) + new_min\n",
        "\n",
        "# rescales the specified dataframe column so that all values are within min and max\n",
        "def scale_column(df, column, nmin=None, nmax=None):\n",
        "  orig_min = df[column].min()\n",
        "  orig_max = df[column].max()\n",
        "  if nmax is None:\n",
        "    new_max = orig_max\n",
        "  else:\n",
        "    new_max = min(orig_max, nmax)\n",
        "\n",
        "  if nmin is None:\n",
        "    new_min = orig_min\n",
        "  else:\n",
        "    new_min = max(orig_min, nmin)\n",
        "  df[column] = (df[column] - orig_min) / (orig_max - orig_min) * (new_max - new_min) + new_min\n",
        "\n",
        "def remove_column(df, column):\n",
        "  df = df.drop([column], axis=1)"
      ],
      "metadata": {
        "colab": {
          "base_uri": "https://localhost:8080/"
        },
        "id": "CWYgbv-LEUfU",
        "outputId": "71c644d3-af1d-412a-9f13-84259af02b74"
      },
      "execution_count": null,
      "outputs": [
        {
          "output_type": "stream",
          "name": "stdout",
          "text": [
            "time: 9.52 ms (started: 2021-12-26 00:19:14 +00:00)\n"
          ]
        }
      ]
    },
    {
      "cell_type": "markdown",
      "source": [
        "# Scratchpad"
      ],
      "metadata": {
        "id": "dvxPWINrmCLo"
      }
    },
    {
      "cell_type": "code",
      "source": [
        "dataset = kaggle_utils.KaggleDataset('train.csv', 'test.csv', True)"
      ],
      "metadata": {
        "id": "JpPRhe8NtGxY",
        "colab": {
          "base_uri": "https://localhost:8080/"
        },
        "outputId": "601d07ee-7a2a-4562-95ca-ee6a2f67d29b"
      },
      "execution_count": null,
      "outputs": [
        {
          "output_type": "stream",
          "name": "stdout",
          "text": [
            "time: 12.8 s (started: 2021-12-26 00:19:18 +00:00)\n"
          ]
        }
      ]
    },
    {
      "cell_type": "code",
      "source": [
        "def clean_data(df):\n",
        "  scale_column(df, 'Aspect', 0, 359.99)\n",
        "  scale_column(df, 'Slope', 0, 90)\n",
        "  scale_column(df, 'Horizontal_Distance_To_Hydrology', 0)\n",
        "  scale_column(df, 'Vertical_Distance_To_Hydrology', 0)\n",
        "  scale_column(df, 'Horizontal_Distance_To_Roadways', 0)\n",
        "  scale_column(df, 'Hillshade_9am', 0, 255)\n",
        "  scale_column(df, 'Hillshade_Noon', 0, 255)\n",
        "  scale_column(df, 'Hillshade_3pm', 0, 255)\n",
        "  scale_column(df, 'Horizontal_Distance_To_Fire_Points', 0)\n",
        "  remove_column(df, 'Soil_Type7')\n",
        "  remove_column(df, 'Soil_Type15')"
      ],
      "metadata": {
        "colab": {
          "base_uri": "https://localhost:8080/"
        },
        "id": "KIKk1qJGAIm4",
        "outputId": "14efc7c0-6c16-4517-fd1e-72d2ae05b522"
      },
      "execution_count": null,
      "outputs": [
        {
          "output_type": "stream",
          "name": "stdout",
          "text": [
            "time: 5.42 ms (started: 2021-12-26 00:23:20 +00:00)\n"
          ]
        }
      ]
    },
    {
      "cell_type": "code",
      "source": [
        "\n",
        "\n",
        "\n",
        "\n",
        "dataset._train = dataset._train[dataset._train.Cover_Type != 5]\n",
        "clean_data(dataset._train)\n",
        "clean_data(dataset._test)"
      ],
      "metadata": {
        "colab": {
          "base_uri": "https://localhost:8080/"
        },
        "id": "J36yhplzt2cv",
        "outputId": "bd74f2c2-7b82-45f1-ab5e-27afa7f33d71"
      },
      "execution_count": null,
      "outputs": [
        {
          "output_type": "stream",
          "name": "stdout",
          "text": [
            "time: 6.23 s (started: 2021-12-26 00:23:26 +00:00)\n"
          ]
        }
      ]
    },
    {
      "cell_type": "code",
      "source": [
        "for cls in dataset.class_list():\n",
        "  print(\"Class: {}, Samples: {}\".format(cls, dataset.get_sample_count(cls)))\n"
      ],
      "metadata": {
        "colab": {
          "base_uri": "https://localhost:8080/"
        },
        "id": "sWBYMuoIAU8e",
        "outputId": "dc6ea452-91ca-42df-b096-ddcaaaa0dbc4"
      },
      "execution_count": null,
      "outputs": [
        {
          "output_type": "stream",
          "name": "stdout",
          "text": [
            "Class: 1, Samples: 1468136\n",
            "Class: 2, Samples: 2262087\n",
            "Class: 3, Samples: 195712\n",
            "Class: 6, Samples: 11426\n",
            "Class: 7, Samples: 62261\n",
            "Class: 4, Samples: 377\n",
            "time: 162 ms (started: 2021-12-26 00:23:38 +00:00)\n"
          ]
        }
      ]
    },
    {
      "cell_type": "markdown",
      "source": [
        "# Decision Tree"
      ],
      "metadata": {
        "id": "EkXImrJUBQph"
      }
    },
    {
      "cell_type": "code",
      "source": [
        "clf = DecisionTreeClassifier(class_weight='balanced', criterion=\"gini\")\n",
        "params = {\"max_depth\": range(5, 50)}\n",
        "results = param_search(clf, dataset.X(), dataset.Y(), params, 2, True)\n",
        "r = CvResults(results)"
      ],
      "metadata": {
        "id": "qBwiQYxUBQBo"
      },
      "execution_count": null,
      "outputs": []
    },
    {
      "cell_type": "code",
      "source": [
        "clf = DecisionTreeClassifier(class_weight='balanced', criterion=\"entropy\", max_depth=49)\n",
        "clf.fit(dataset.X(), dataset.Y())\n",
        "dataset.predict_clf(clf)"
      ],
      "metadata": {
        "id": "sxHjR_xXhpUq",
        "colab": {
          "base_uri": "https://localhost:8080/"
        },
        "outputId": "7d2ddad5-9562-488a-d0e9-cf264041d160"
      },
      "execution_count": null,
      "outputs": [
        {
          "output_type": "stream",
          "name": "stdout",
          "text": [
            "time: 2min 13s (started: 2021-12-23 14:14:37 +00:00)\n"
          ]
        }
      ]
    },
    {
      "cell_type": "markdown",
      "source": [
        "# Random Forest Classifier"
      ],
      "metadata": {
        "id": "KqhdR3DuW8-P"
      }
    },
    {
      "cell_type": "code",
      "source": [
        "clf = RandomForestClassifier(class_weight='balanced')\n",
        "params = {\"max_depth\": range(2, 15),\n",
        "          \"n_estimators\": range(5, 56, 5)}\n",
        "results = param_search(clf, dataset.X(), dataset.Y(), params, 2, True)\n",
        "r = CvResults(results)"
      ],
      "metadata": {
        "colab": {
          "base_uri": "https://localhost:8080/"
        },
        "id": "jJQHjMqEW8Zo",
        "outputId": "2c627673-d240-4f91-bb60-e86336c961db"
      },
      "execution_count": null,
      "outputs": [
        {
          "output_type": "stream",
          "name": "stdout",
          "text": [
            "Fitting 2 folds for each of 143 candidates, totalling 286 fits\n",
            "[CV 1/2] END max_depth=2, n_estimators=5; balanced_accuracy: (test=0.499) f1_macro: (test=0.106) total time=  19.0s\n",
            "[CV 2/2] END max_depth=2, n_estimators=5; balanced_accuracy: (test=0.619) f1_macro: (test=0.243) total time=  16.6s\n",
            "[CV 1/2] END max_depth=2, n_estimators=10; balanced_accuracy: (test=0.691) f1_macro: (test=0.364) total time=  29.5s\n",
            "[CV 2/2] END max_depth=2, n_estimators=10; balanced_accuracy: (test=0.638) f1_macro: (test=0.323) total time=  27.7s\n",
            "[CV 1/2] END max_depth=2, n_estimators=15; balanced_accuracy: (test=0.644) f1_macro: (test=0.283) total time=  40.1s\n",
            "[CV 2/2] END max_depth=2, n_estimators=15; balanced_accuracy: (test=0.640) f1_macro: (test=0.274) total time=  39.7s\n",
            "[CV 1/2] END max_depth=2, n_estimators=20; balanced_accuracy: (test=0.628) f1_macro: (test=0.315) total time=  49.4s\n",
            "[CV 2/2] END max_depth=2, n_estimators=20; balanced_accuracy: (test=0.653) f1_macro: (test=0.304) total time=  52.2s\n",
            "[CV 1/2] END max_depth=2, n_estimators=25; balanced_accuracy: (test=0.709) f1_macro: (test=0.331) total time= 1.0min\n",
            "[CV 2/2] END max_depth=2, n_estimators=25; balanced_accuracy: (test=0.668) f1_macro: (test=0.372) total time= 1.0min\n",
            "[CV 1/2] END max_depth=2, n_estimators=30; balanced_accuracy: (test=0.711) f1_macro: (test=0.339) total time= 1.2min\n",
            "[CV 2/2] END max_depth=2, n_estimators=30; balanced_accuracy: (test=0.666) f1_macro: (test=0.302) total time= 1.2min\n",
            "[CV 1/2] END max_depth=2, n_estimators=35; balanced_accuracy: (test=0.653) f1_macro: (test=0.286) total time= 1.3min\n",
            "[CV 2/2] END max_depth=2, n_estimators=35; balanced_accuracy: (test=0.755) f1_macro: (test=0.420) total time= 1.4min\n",
            "[CV 1/2] END max_depth=2, n_estimators=40; balanced_accuracy: (test=0.639) f1_macro: (test=0.285) total time= 1.5min\n",
            "[CV 2/2] END max_depth=2, n_estimators=40; balanced_accuracy: (test=0.690) f1_macro: (test=0.335) total time= 1.5min\n",
            "[CV 1/2] END max_depth=2, n_estimators=45; balanced_accuracy: (test=0.681) f1_macro: (test=0.319) total time= 1.8min\n",
            "[CV 2/2] END max_depth=2, n_estimators=45; balanced_accuracy: (test=0.741) f1_macro: (test=0.384) total time= 1.9min\n",
            "[CV 1/2] END max_depth=2, n_estimators=50; balanced_accuracy: (test=0.654) f1_macro: (test=0.291) total time= 1.9min\n",
            "[CV 2/2] END max_depth=2, n_estimators=50; balanced_accuracy: (test=0.719) f1_macro: (test=0.354) total time= 2.1min\n",
            "[CV 1/2] END max_depth=2, n_estimators=55; balanced_accuracy: (test=0.684) f1_macro: (test=0.314) total time= 2.0min\n",
            "[CV 2/2] END max_depth=2, n_estimators=55; balanced_accuracy: (test=0.697) f1_macro: (test=0.322) total time= 2.2min\n",
            "[CV 1/2] END max_depth=3, n_estimators=5; balanced_accuracy: (test=0.701) f1_macro: (test=0.289) total time=  21.5s\n",
            "[CV 2/2] END max_depth=3, n_estimators=5; balanced_accuracy: (test=0.643) f1_macro: (test=0.277) total time=  21.8s\n",
            "[CV 1/2] END max_depth=3, n_estimators=10; balanced_accuracy: (test=0.653) f1_macro: (test=0.236) total time=  37.4s\n",
            "[CV 2/2] END max_depth=3, n_estimators=10; balanced_accuracy: (test=0.756) f1_macro: (test=0.431) total time=  40.4s\n",
            "[CV 1/2] END max_depth=3, n_estimators=15; balanced_accuracy: (test=0.774) f1_macro: (test=0.422) total time=  54.2s\n",
            "[CV 2/2] END max_depth=3, n_estimators=15; balanced_accuracy: (test=0.785) f1_macro: (test=0.411) total time=  50.8s\n",
            "[CV 1/2] END max_depth=3, n_estimators=20; balanced_accuracy: (test=0.684) f1_macro: (test=0.324) total time= 1.2min\n",
            "[CV 2/2] END max_depth=3, n_estimators=20; balanced_accuracy: (test=0.749) f1_macro: (test=0.366) total time= 1.2min\n",
            "[CV 1/2] END max_depth=3, n_estimators=25; balanced_accuracy: (test=0.721) f1_macro: (test=0.361) total time= 1.4min\n",
            "[CV 2/2] END max_depth=3, n_estimators=25; balanced_accuracy: (test=0.721) f1_macro: (test=0.383) total time= 1.4min\n",
            "[CV 1/2] END max_depth=3, n_estimators=30; balanced_accuracy: (test=0.739) f1_macro: (test=0.407) total time= 1.8min\n",
            "[CV 2/2] END max_depth=3, n_estimators=30; balanced_accuracy: (test=0.778) f1_macro: (test=0.434) total time= 1.6min\n",
            "[CV 1/2] END max_depth=3, n_estimators=35; balanced_accuracy: (test=0.755) f1_macro: (test=0.362) total time= 1.8min\n",
            "[CV 2/2] END max_depth=3, n_estimators=35; balanced_accuracy: (test=0.685) f1_macro: (test=0.312) total time= 1.9min\n",
            "[CV 1/2] END max_depth=3, n_estimators=40; balanced_accuracy: (test=0.706) f1_macro: (test=0.315) total time= 2.1min\n",
            "[CV 2/2] END max_depth=3, n_estimators=40; balanced_accuracy: (test=0.736) f1_macro: (test=0.348) total time= 2.2min\n",
            "[CV 1/2] END max_depth=3, n_estimators=45; balanced_accuracy: (test=0.774) f1_macro: (test=0.407) total time= 2.5min\n",
            "[CV 2/2] END max_depth=3, n_estimators=45; balanced_accuracy: (test=0.770) f1_macro: (test=0.406) total time= 2.5min\n",
            "[CV 1/2] END max_depth=3, n_estimators=50; balanced_accuracy: (test=0.730) f1_macro: (test=0.353) total time= 2.7min\n",
            "[CV 2/2] END max_depth=3, n_estimators=50; balanced_accuracy: (test=0.716) f1_macro: (test=0.370) total time= 2.6min\n",
            "[CV 1/2] END max_depth=3, n_estimators=55; balanced_accuracy: (test=0.757) f1_macro: (test=0.391) total time= 2.8min\n",
            "[CV 2/2] END max_depth=3, n_estimators=55; balanced_accuracy: (test=0.756) f1_macro: (test=0.422) total time= 2.9min\n",
            "[CV 1/2] END max_depth=4, n_estimators=5; balanced_accuracy: (test=0.771) f1_macro: (test=0.421) total time=  31.1s\n",
            "[CV 2/2] END max_depth=4, n_estimators=5; balanced_accuracy: (test=0.742) f1_macro: (test=0.368) total time=  27.9s\n",
            "[CV 1/2] END max_depth=4, n_estimators=10; balanced_accuracy: (test=0.760) f1_macro: (test=0.413) total time=  49.0s\n",
            "[CV 2/2] END max_depth=4, n_estimators=10; balanced_accuracy: (test=0.692) f1_macro: (test=0.325) total time=  47.2s\n",
            "[CV 1/2] END max_depth=4, n_estimators=15; balanced_accuracy: (test=0.765) f1_macro: (test=0.434) total time= 1.2min\n",
            "[CV 2/2] END max_depth=4, n_estimators=15; balanced_accuracy: (test=0.795) f1_macro: (test=0.441) total time= 1.1min\n",
            "[CV 1/2] END max_depth=4, n_estimators=20; balanced_accuracy: (test=0.792) f1_macro: (test=0.418) total time= 1.5min\n",
            "[CV 2/2] END max_depth=4, n_estimators=20; balanced_accuracy: (test=0.758) f1_macro: (test=0.401) total time= 1.5min\n",
            "[CV 1/2] END max_depth=4, n_estimators=25; balanced_accuracy: (test=0.763) f1_macro: (test=0.362) total time= 1.8min\n",
            "[CV 2/2] END max_depth=4, n_estimators=25; balanced_accuracy: (test=0.753) f1_macro: (test=0.360) total time= 1.9min\n",
            "[CV 1/2] END max_depth=4, n_estimators=30; balanced_accuracy: (test=0.807) f1_macro: (test=0.441) total time= 2.3min\n",
            "[CV 2/2] END max_depth=4, n_estimators=30; balanced_accuracy: (test=0.818) f1_macro: (test=0.433) total time= 2.4min\n",
            "[CV 1/2] END max_depth=4, n_estimators=35; balanced_accuracy: (test=0.802) f1_macro: (test=0.434) total time= 2.6min\n",
            "[CV 2/2] END max_depth=4, n_estimators=35; balanced_accuracy: (test=0.787) f1_macro: (test=0.435) total time= 2.5min\n",
            "[CV 1/2] END max_depth=4, n_estimators=40; balanced_accuracy: (test=0.813) f1_macro: (test=0.426) total time= 2.9min\n",
            "[CV 2/2] END max_depth=4, n_estimators=40; balanced_accuracy: (test=0.806) f1_macro: (test=0.438) total time= 3.1min\n",
            "[CV 1/2] END max_depth=4, n_estimators=45; balanced_accuracy: (test=0.802) f1_macro: (test=0.436) total time= 3.3min\n",
            "[CV 2/2] END max_depth=4, n_estimators=45; balanced_accuracy: (test=0.809) f1_macro: (test=0.439) total time= 3.3min\n",
            "[CV 1/2] END max_depth=4, n_estimators=50; balanced_accuracy: (test=0.762) f1_macro: (test=0.386) total time= 4.0min\n",
            "[CV 2/2] END max_depth=4, n_estimators=50; balanced_accuracy: (test=0.787) f1_macro: (test=0.416) total time= 3.7min\n",
            "[CV 1/2] END max_depth=4, n_estimators=55; balanced_accuracy: (test=0.777) f1_macro: (test=0.421) total time= 4.1min\n",
            "[CV 2/2] END max_depth=4, n_estimators=55; balanced_accuracy: (test=0.802) f1_macro: (test=0.431) total time= 4.2min\n",
            "[CV 1/2] END max_depth=5, n_estimators=5; balanced_accuracy: (test=0.807) f1_macro: (test=0.424) total time=  32.3s\n",
            "[CV 2/2] END max_depth=5, n_estimators=5; balanced_accuracy: (test=0.777) f1_macro: (test=0.436) total time=  32.1s\n",
            "[CV 1/2] END max_depth=5, n_estimators=10; balanced_accuracy: (test=0.806) f1_macro: (test=0.408) total time=  57.8s\n",
            "[CV 2/2] END max_depth=5, n_estimators=10; balanced_accuracy: (test=0.771) f1_macro: (test=0.393) total time=  59.2s\n",
            "[CV 1/2] END max_depth=5, n_estimators=15; balanced_accuracy: (test=0.826) f1_macro: (test=0.439) total time= 1.5min\n",
            "[CV 2/2] END max_depth=5, n_estimators=15; balanced_accuracy: (test=0.807) f1_macro: (test=0.421) total time= 1.5min\n",
            "[CV 1/2] END max_depth=5, n_estimators=20; balanced_accuracy: (test=0.783) f1_macro: (test=0.407) total time= 1.8min\n",
            "[CV 2/2] END max_depth=5, n_estimators=20; balanced_accuracy: (test=0.804) f1_macro: (test=0.423) total time= 1.9min\n",
            "[CV 1/2] END max_depth=5, n_estimators=25; balanced_accuracy: (test=0.817) f1_macro: (test=0.430) total time= 2.2min\n",
            "[CV 2/2] END max_depth=5, n_estimators=25; balanced_accuracy: (test=0.802) f1_macro: (test=0.420) total time= 2.0min\n",
            "[CV 1/2] END max_depth=5, n_estimators=30; balanced_accuracy: (test=0.801) f1_macro: (test=0.422) total time= 2.5min\n",
            "[CV 2/2] END max_depth=5, n_estimators=30; balanced_accuracy: (test=0.817) f1_macro: (test=0.447) total time= 2.5min\n",
            "[CV 1/2] END max_depth=5, n_estimators=35; balanced_accuracy: (test=0.805) f1_macro: (test=0.432) total time= 2.9min\n",
            "[CV 2/2] END max_depth=5, n_estimators=35; balanced_accuracy: (test=0.826) f1_macro: (test=0.436) total time= 3.0min\n",
            "[CV 1/2] END max_depth=5, n_estimators=40; balanced_accuracy: (test=0.809) f1_macro: (test=0.421) total time= 3.3min\n",
            "[CV 2/2] END max_depth=5, n_estimators=40; balanced_accuracy: (test=0.812) f1_macro: (test=0.440) total time= 3.4min\n",
            "[CV 1/2] END max_depth=5, n_estimators=45; balanced_accuracy: (test=0.814) f1_macro: (test=0.439) total time= 3.5min\n",
            "[CV 2/2] END max_depth=5, n_estimators=45; balanced_accuracy: (test=0.824) f1_macro: (test=0.446) total time= 3.8min\n",
            "[CV 1/2] END max_depth=5, n_estimators=50; balanced_accuracy: (test=0.802) f1_macro: (test=0.437) total time= 4.1min\n",
            "[CV 2/2] END max_depth=5, n_estimators=50; balanced_accuracy: (test=0.812) f1_macro: (test=0.435) total time= 4.1min\n",
            "[CV 1/2] END max_depth=5, n_estimators=55; balanced_accuracy: (test=0.809) f1_macro: (test=0.438) total time= 4.5min\n",
            "[CV 2/2] END max_depth=5, n_estimators=55; balanced_accuracy: (test=0.819) f1_macro: (test=0.437) total time= 4.5min\n",
            "[CV 1/2] END max_depth=6, n_estimators=5; balanced_accuracy: (test=0.798) f1_macro: (test=0.422) total time=  34.4s\n",
            "[CV 2/2] END max_depth=6, n_estimators=5; balanced_accuracy: (test=0.817) f1_macro: (test=0.432) total time=  33.2s\n",
            "[CV 1/2] END max_depth=6, n_estimators=10; balanced_accuracy: (test=0.783) f1_macro: (test=0.438) total time= 1.0min\n",
            "[CV 2/2] END max_depth=6, n_estimators=10; balanced_accuracy: (test=0.801) f1_macro: (test=0.449) total time= 1.1min\n",
            "[CV 1/2] END max_depth=6, n_estimators=15; balanced_accuracy: (test=0.806) f1_macro: (test=0.431) total time= 1.4min\n",
            "[CV 2/2] END max_depth=6, n_estimators=15; balanced_accuracy: (test=0.823) f1_macro: (test=0.449) total time= 1.5min\n",
            "[CV 1/2] END max_depth=6, n_estimators=20; balanced_accuracy: (test=0.831) f1_macro: (test=0.445) total time= 2.0min\n",
            "[CV 2/2] END max_depth=6, n_estimators=20; balanced_accuracy: (test=0.805) f1_macro: (test=0.423) total time= 1.9min\n",
            "[CV 1/2] END max_depth=6, n_estimators=25; balanced_accuracy: (test=0.820) f1_macro: (test=0.430) total time= 2.6min\n",
            "[CV 2/2] END max_depth=6, n_estimators=25; balanced_accuracy: (test=0.810) f1_macro: (test=0.441) total time= 2.5min\n",
            "[CV 1/2] END max_depth=6, n_estimators=30; balanced_accuracy: (test=0.797) f1_macro: (test=0.414) total time= 2.8min\n",
            "[CV 2/2] END max_depth=6, n_estimators=30; balanced_accuracy: (test=0.830) f1_macro: (test=0.455) total time= 3.0min\n",
            "[CV 1/2] END max_depth=6, n_estimators=35; balanced_accuracy: (test=0.819) f1_macro: (test=0.435) total time= 3.4min\n",
            "[CV 2/2] END max_depth=6, n_estimators=35; balanced_accuracy: (test=0.820) f1_macro: (test=0.443) total time= 3.2min\n",
            "[CV 1/2] END max_depth=6, n_estimators=40; balanced_accuracy: (test=0.826) f1_macro: (test=0.440) total time= 4.0min\n",
            "[CV 2/2] END max_depth=6, n_estimators=40; balanced_accuracy: (test=0.823) f1_macro: (test=0.432) total time= 3.9min\n",
            "[CV 1/2] END max_depth=6, n_estimators=45; balanced_accuracy: (test=0.825) f1_macro: (test=0.441) total time= 4.6min\n",
            "[CV 2/2] END max_depth=6, n_estimators=45; balanced_accuracy: (test=0.832) f1_macro: (test=0.445) total time= 4.5min\n",
            "[CV 1/2] END max_depth=6, n_estimators=50; balanced_accuracy: (test=0.835) f1_macro: (test=0.452) total time= 4.9min\n",
            "[CV 2/2] END max_depth=6, n_estimators=50; balanced_accuracy: (test=0.837) f1_macro: (test=0.450) total time= 5.0min\n",
            "[CV 1/2] END max_depth=6, n_estimators=55; balanced_accuracy: (test=0.825) f1_macro: (test=0.452) total time= 5.2min\n",
            "[CV 2/2] END max_depth=6, n_estimators=55; balanced_accuracy: (test=0.829) f1_macro: (test=0.444) total time= 5.6min\n",
            "[CV 1/2] END max_depth=7, n_estimators=5; balanced_accuracy: (test=0.779) f1_macro: (test=0.438) total time=  35.9s\n",
            "[CV 2/2] END max_depth=7, n_estimators=5; balanced_accuracy: (test=0.820) f1_macro: (test=0.445) total time=  37.7s\n",
            "[CV 1/2] END max_depth=7, n_estimators=10; balanced_accuracy: (test=0.826) f1_macro: (test=0.457) total time= 1.2min\n",
            "[CV 2/2] END max_depth=7, n_estimators=10; balanced_accuracy: (test=0.836) f1_macro: (test=0.477) total time= 1.2min\n",
            "[CV 1/2] END max_depth=7, n_estimators=15; balanced_accuracy: (test=0.839) f1_macro: (test=0.455) total time= 1.8min\n",
            "[CV 2/2] END max_depth=7, n_estimators=15; balanced_accuracy: (test=0.833) f1_macro: (test=0.476) total time= 1.7min\n",
            "[CV 1/2] END max_depth=7, n_estimators=20; balanced_accuracy: (test=0.830) f1_macro: (test=0.439) total time= 2.3min\n",
            "[CV 2/2] END max_depth=7, n_estimators=20; balanced_accuracy: (test=0.830) f1_macro: (test=0.451) total time= 2.3min\n",
            "[CV 1/2] END max_depth=7, n_estimators=25; balanced_accuracy: (test=0.831) f1_macro: (test=0.450) total time= 2.8min\n",
            "[CV 2/2] END max_depth=7, n_estimators=25; balanced_accuracy: (test=0.843) f1_macro: (test=0.462) total time= 2.8min\n",
            "[CV 1/2] END max_depth=7, n_estimators=30; balanced_accuracy: (test=0.827) f1_macro: (test=0.452) total time= 3.5min\n",
            "[CV 2/2] END max_depth=7, n_estimators=30; balanced_accuracy: (test=0.833) f1_macro: (test=0.453) total time= 3.3min\n",
            "[CV 1/2] END max_depth=7, n_estimators=35; balanced_accuracy: (test=0.836) f1_macro: (test=0.460) total time= 3.8min\n",
            "[CV 2/2] END max_depth=7, n_estimators=35; balanced_accuracy: (test=0.836) f1_macro: (test=0.443) total time= 3.9min\n",
            "[CV 1/2] END max_depth=7, n_estimators=40; balanced_accuracy: (test=0.831) f1_macro: (test=0.454) total time= 4.4min\n",
            "[CV 2/2] END max_depth=7, n_estimators=40; balanced_accuracy: (test=0.839) f1_macro: (test=0.462) total time= 4.5min\n",
            "[CV 1/2] END max_depth=7, n_estimators=45; balanced_accuracy: (test=0.833) f1_macro: (test=0.453) total time= 5.0min\n",
            "[CV 2/2] END max_depth=7, n_estimators=45; balanced_accuracy: (test=0.846) f1_macro: (test=0.462) total time= 5.0min\n",
            "[CV 1/2] END max_depth=7, n_estimators=50; balanced_accuracy: (test=0.836) f1_macro: (test=0.463) total time= 5.5min\n",
            "[CV 2/2] END max_depth=7, n_estimators=50; balanced_accuracy: (test=0.844) f1_macro: (test=0.458) total time= 5.6min\n",
            "[CV 1/2] END max_depth=7, n_estimators=55; balanced_accuracy: (test=0.841) f1_macro: (test=0.459) total time= 6.1min\n",
            "[CV 2/2] END max_depth=7, n_estimators=55; balanced_accuracy: (test=0.836) f1_macro: (test=0.454) total time= 6.1min\n",
            "[CV 1/2] END max_depth=8, n_estimators=5; balanced_accuracy: (test=0.814) f1_macro: (test=0.445) total time=  44.2s\n",
            "[CV 2/2] END max_depth=8, n_estimators=5; balanced_accuracy: (test=0.818) f1_macro: (test=0.428) total time=  43.0s\n",
            "[CV 1/2] END max_depth=8, n_estimators=10; balanced_accuracy: (test=0.825) f1_macro: (test=0.461) total time= 1.3min\n",
            "[CV 2/2] END max_depth=8, n_estimators=10; balanced_accuracy: (test=0.818) f1_macro: (test=0.436) total time= 1.3min\n",
            "[CV 1/2] END max_depth=8, n_estimators=15; balanced_accuracy: (test=0.847) f1_macro: (test=0.465) total time= 1.9min\n",
            "[CV 2/2] END max_depth=8, n_estimators=15; balanced_accuracy: (test=0.847) f1_macro: (test=0.481) total time= 2.0min\n",
            "[CV 1/2] END max_depth=8, n_estimators=20; balanced_accuracy: (test=0.847) f1_macro: (test=0.464) total time= 2.5min\n",
            "[CV 2/2] END max_depth=8, n_estimators=20; balanced_accuracy: (test=0.853) f1_macro: (test=0.469) total time= 2.5min\n",
            "[CV 1/2] END max_depth=8, n_estimators=25; balanced_accuracy: (test=0.847) f1_macro: (test=0.461) total time= 3.1min\n",
            "[CV 2/2] END max_depth=8, n_estimators=25; balanced_accuracy: (test=0.846) f1_macro: (test=0.465) total time= 3.0min\n",
            "[CV 1/2] END max_depth=8, n_estimators=30; balanced_accuracy: (test=0.848) f1_macro: (test=0.460) total time= 3.7min\n",
            "[CV 2/2] END max_depth=8, n_estimators=30; balanced_accuracy: (test=0.853) f1_macro: (test=0.475) total time= 3.7min\n",
            "[CV 1/2] END max_depth=8, n_estimators=35; balanced_accuracy: (test=0.854) f1_macro: (test=0.473) total time= 4.3min\n",
            "[CV 2/2] END max_depth=8, n_estimators=35; balanced_accuracy: (test=0.846) f1_macro: (test=0.460) total time= 4.3min\n",
            "[CV 1/2] END max_depth=8, n_estimators=40; balanced_accuracy: (test=0.848) f1_macro: (test=0.467) total time= 4.9min\n",
            "[CV 2/2] END max_depth=8, n_estimators=40; balanced_accuracy: (test=0.851) f1_macro: (test=0.462) total time= 4.9min\n",
            "[CV 1/2] END max_depth=8, n_estimators=45; balanced_accuracy: (test=0.841) f1_macro: (test=0.464) total time= 4.8min\n",
            "[CV 2/2] END max_depth=8, n_estimators=45; balanced_accuracy: (test=0.856) f1_macro: (test=0.477) total time= 4.1min\n",
            "[CV 1/2] END max_depth=8, n_estimators=50; balanced_accuracy: (test=0.843) f1_macro: (test=0.461) total time= 4.5min\n",
            "[CV 2/2] END max_depth=8, n_estimators=50; balanced_accuracy: (test=0.852) f1_macro: (test=0.465) total time= 4.6min\n",
            "[CV 1/2] END max_depth=8, n_estimators=55; balanced_accuracy: (test=0.843) f1_macro: (test=0.465) total time= 5.1min\n",
            "[CV 2/2] END max_depth=8, n_estimators=55; balanced_accuracy: (test=0.846) f1_macro: (test=0.463) total time= 5.0min\n",
            "[CV 1/2] END max_depth=9, n_estimators=5; balanced_accuracy: (test=0.831) f1_macro: (test=0.471) total time=  36.6s\n",
            "[CV 2/2] END max_depth=9, n_estimators=5; balanced_accuracy: (test=0.834) f1_macro: (test=0.463) total time=  36.2s\n",
            "[CV 1/2] END max_depth=9, n_estimators=10; balanced_accuracy: (test=0.847) f1_macro: (test=0.475) total time= 1.1min\n",
            "[CV 2/2] END max_depth=9, n_estimators=10; balanced_accuracy: (test=0.850) f1_macro: (test=0.483) total time= 1.2min\n",
            "[CV 1/2] END max_depth=9, n_estimators=15; balanced_accuracy: (test=0.842) f1_macro: (test=0.482) total time= 1.6min\n",
            "[CV 2/2] END max_depth=9, n_estimators=15; balanced_accuracy: (test=0.845) f1_macro: (test=0.452) total time= 1.6min\n",
            "[CV 1/2] END max_depth=9, n_estimators=20; balanced_accuracy: (test=0.866) f1_macro: (test=0.499) total time= 2.1min\n",
            "[CV 2/2] END max_depth=9, n_estimators=20; balanced_accuracy: (test=0.854) f1_macro: (test=0.484) total time= 2.1min\n",
            "[CV 1/2] END max_depth=9, n_estimators=25; balanced_accuracy: (test=0.851) f1_macro: (test=0.476) total time= 2.7min\n",
            "[CV 2/2] END max_depth=9, n_estimators=25; balanced_accuracy: (test=0.857) f1_macro: (test=0.488) total time= 2.6min\n",
            "[CV 1/2] END max_depth=9, n_estimators=30; balanced_accuracy: (test=0.852) f1_macro: (test=0.484) total time= 3.2min\n",
            "[CV 2/2] END max_depth=9, n_estimators=30; balanced_accuracy: (test=0.854) f1_macro: (test=0.466) total time= 3.2min\n",
            "[CV 1/2] END max_depth=9, n_estimators=35; balanced_accuracy: (test=0.848) f1_macro: (test=0.469) total time= 3.6min\n",
            "[CV 2/2] END max_depth=9, n_estimators=35; balanced_accuracy: (test=0.860) f1_macro: (test=0.483) total time= 3.7min\n",
            "[CV 1/2] END max_depth=9, n_estimators=40; balanced_accuracy: (test=0.852) f1_macro: (test=0.483) total time= 4.1min\n",
            "[CV 2/2] END max_depth=9, n_estimators=40; balanced_accuracy: (test=0.863) f1_macro: (test=0.483) total time= 4.2min\n",
            "[CV 1/2] END max_depth=9, n_estimators=45; balanced_accuracy: (test=0.845) f1_macro: (test=0.480) total time= 4.5min\n",
            "[CV 2/2] END max_depth=9, n_estimators=45; balanced_accuracy: (test=0.856) f1_macro: (test=0.474) total time= 4.6min\n",
            "[CV 1/2] END max_depth=9, n_estimators=50; balanced_accuracy: (test=0.861) f1_macro: (test=0.487) total time= 5.1min\n",
            "[CV 2/2] END max_depth=9, n_estimators=50; balanced_accuracy: (test=0.860) f1_macro: (test=0.486) total time= 5.2min\n",
            "[CV 1/2] END max_depth=9, n_estimators=55; balanced_accuracy: (test=0.858) f1_macro: (test=0.481) total time= 5.6min\n",
            "[CV 2/2] END max_depth=9, n_estimators=55; balanced_accuracy: (test=0.856) f1_macro: (test=0.475) total time= 5.6min\n",
            "[CV 1/2] END max_depth=10, n_estimators=5; balanced_accuracy: (test=0.832) f1_macro: (test=0.470) total time=  39.0s\n",
            "[CV 2/2] END max_depth=10, n_estimators=5; balanced_accuracy: (test=0.838) f1_macro: (test=0.507) total time=  38.5s\n",
            "[CV 1/2] END max_depth=10, n_estimators=10; balanced_accuracy: (test=0.839) f1_macro: (test=0.482) total time= 1.2min\n",
            "[CV 2/2] END max_depth=10, n_estimators=10; balanced_accuracy: (test=0.848) f1_macro: (test=0.498) total time= 1.2min\n",
            "[CV 1/2] END max_depth=10, n_estimators=15; balanced_accuracy: (test=0.865) f1_macro: (test=0.516) total time= 1.8min\n",
            "[CV 2/2] END max_depth=10, n_estimators=15; balanced_accuracy: (test=0.857) f1_macro: (test=0.481) total time= 1.8min\n",
            "[CV 1/2] END max_depth=10, n_estimators=20; balanced_accuracy: (test=0.852) f1_macro: (test=0.499) total time= 2.3min\n",
            "[CV 2/2] END max_depth=10, n_estimators=20; balanced_accuracy: (test=0.863) f1_macro: (test=0.495) total time= 2.3min\n",
            "[CV 1/2] END max_depth=10, n_estimators=25; balanced_accuracy: (test=0.862) f1_macro: (test=0.500) total time= 2.9min\n",
            "[CV 2/2] END max_depth=10, n_estimators=25; balanced_accuracy: (test=0.867) f1_macro: (test=0.494) total time= 2.8min\n",
            "[CV 1/2] END max_depth=10, n_estimators=30; balanced_accuracy: (test=0.860) f1_macro: (test=0.491) total time= 3.4min\n",
            "[CV 2/2] END max_depth=10, n_estimators=30; balanced_accuracy: (test=0.863) f1_macro: (test=0.501) total time= 3.4min\n",
            "[CV 1/2] END max_depth=10, n_estimators=35; balanced_accuracy: (test=0.863) f1_macro: (test=0.492) total time= 4.1min\n",
            "[CV 2/2] END max_depth=10, n_estimators=35; balanced_accuracy: (test=0.860) f1_macro: (test=0.483) total time= 4.2min\n",
            "[CV 1/2] END max_depth=10, n_estimators=40; balanced_accuracy: (test=0.861) f1_macro: (test=0.499) total time= 4.7min\n",
            "[CV 2/2] END max_depth=10, n_estimators=40; balanced_accuracy: (test=0.867) f1_macro: (test=0.505) total time= 4.7min\n",
            "[CV 1/2] END max_depth=10, n_estimators=45; balanced_accuracy: (test=0.856) f1_macro: (test=0.504) total time= 5.2min\n",
            "[CV 2/2] END max_depth=10, n_estimators=45; balanced_accuracy: (test=0.868) f1_macro: (test=0.497) total time= 5.3min\n",
            "[CV 1/2] END max_depth=10, n_estimators=50; balanced_accuracy: (test=0.861) f1_macro: (test=0.500) total time= 5.8min\n",
            "[CV 2/2] END max_depth=10, n_estimators=50; balanced_accuracy: (test=0.868) f1_macro: (test=0.493) total time= 6.0min\n",
            "[CV 1/2] END max_depth=10, n_estimators=55; balanced_accuracy: (test=0.862) f1_macro: (test=0.496) total time= 6.4min\n",
            "[CV 2/2] END max_depth=10, n_estimators=55; balanced_accuracy: (test=0.868) f1_macro: (test=0.506) total time= 6.5min\n",
            "[CV 1/2] END max_depth=11, n_estimators=5; balanced_accuracy: (test=0.847) f1_macro: (test=0.493) total time=  43.6s\n",
            "[CV 2/2] END max_depth=11, n_estimators=5; balanced_accuracy: (test=0.849) f1_macro: (test=0.506) total time=  43.6s\n",
            "[CV 1/2] END max_depth=11, n_estimators=10; balanced_accuracy: (test=0.847) f1_macro: (test=0.514) total time= 1.4min\n",
            "[CV 2/2] END max_depth=11, n_estimators=10; balanced_accuracy: (test=0.842) f1_macro: (test=0.499) total time= 1.3min\n",
            "[CV 1/2] END max_depth=11, n_estimators=15; balanced_accuracy: (test=0.873) f1_macro: (test=0.528) total time= 2.0min\n",
            "[CV 2/2] END max_depth=11, n_estimators=15; balanced_accuracy: (test=0.855) f1_macro: (test=0.514) total time= 2.0min\n",
            "[CV 1/2] END max_depth=11, n_estimators=20; balanced_accuracy: (test=0.864) f1_macro: (test=0.521) total time= 2.6min\n",
            "[CV 2/2] END max_depth=11, n_estimators=20; balanced_accuracy: (test=0.861) f1_macro: (test=0.516) total time= 2.6min\n",
            "[CV 1/2] END max_depth=11, n_estimators=25; balanced_accuracy: (test=0.851) f1_macro: (test=0.508) total time= 3.0min\n",
            "[CV 2/2] END max_depth=11, n_estimators=25; balanced_accuracy: (test=0.871) f1_macro: (test=0.514) total time= 3.0min\n",
            "[CV 1/2] END max_depth=11, n_estimators=30; balanced_accuracy: (test=0.866) f1_macro: (test=0.517) total time= 3.6min\n",
            "[CV 2/2] END max_depth=11, n_estimators=30; balanced_accuracy: (test=0.869) f1_macro: (test=0.520) total time= 3.6min\n",
            "[CV 1/2] END max_depth=11, n_estimators=35; balanced_accuracy: (test=0.861) f1_macro: (test=0.516) total time= 4.1min\n",
            "[CV 2/2] END max_depth=11, n_estimators=35; balanced_accuracy: (test=0.878) f1_macro: (test=0.512) total time= 4.1min\n",
            "[CV 1/2] END max_depth=11, n_estimators=40; balanced_accuracy: (test=0.867) f1_macro: (test=0.517) total time= 4.6min\n",
            "[CV 2/2] END max_depth=11, n_estimators=40; balanced_accuracy: (test=0.867) f1_macro: (test=0.515) total time= 4.8min\n",
            "[CV 1/2] END max_depth=11, n_estimators=45; balanced_accuracy: (test=0.868) f1_macro: (test=0.509) total time= 5.2min\n",
            "[CV 2/2] END max_depth=11, n_estimators=45; balanced_accuracy: (test=0.870) f1_macro: (test=0.508) total time= 5.3min\n",
            "[CV 1/2] END max_depth=11, n_estimators=50; balanced_accuracy: (test=0.875) f1_macro: (test=0.520) total time= 6.0min\n",
            "[CV 2/2] END max_depth=11, n_estimators=50; balanced_accuracy: (test=0.875) f1_macro: (test=0.516) total time= 5.9min\n",
            "[CV 1/2] END max_depth=11, n_estimators=55; balanced_accuracy: (test=0.869) f1_macro: (test=0.519) total time= 6.7min\n",
            "[CV 2/2] END max_depth=11, n_estimators=55; balanced_accuracy: (test=0.876) f1_macro: (test=0.521) total time= 6.5min\n",
            "[CV 1/2] END max_depth=12, n_estimators=5; balanced_accuracy: (test=0.832) f1_macro: (test=0.493) total time=  43.0s\n",
            "[CV 2/2] END max_depth=12, n_estimators=5; balanced_accuracy: (test=0.821) f1_macro: (test=0.534) total time=  42.6s\n",
            "[CV 1/2] END max_depth=12, n_estimators=10; balanced_accuracy: (test=0.864) f1_macro: (test=0.530) total time= 1.3min\n",
            "[CV 2/2] END max_depth=12, n_estimators=10; balanced_accuracy: (test=0.853) f1_macro: (test=0.534) total time= 1.3min\n",
            "[CV 1/2] END max_depth=12, n_estimators=15; balanced_accuracy: (test=0.855) f1_macro: (test=0.539) total time= 2.0min\n",
            "[CV 2/2] END max_depth=12, n_estimators=15; balanced_accuracy: (test=0.853) f1_macro: (test=0.528) total time= 2.0min\n",
            "[CV 1/2] END max_depth=12, n_estimators=20; balanced_accuracy: (test=0.858) f1_macro: (test=0.519) total time= 2.5min\n",
            "[CV 2/2] END max_depth=12, n_estimators=20; balanced_accuracy: (test=0.861) f1_macro: (test=0.545) total time= 2.6min\n",
            "[CV 1/2] END max_depth=12, n_estimators=25; balanced_accuracy: (test=0.861) f1_macro: (test=0.532) total time= 3.2min\n",
            "[CV 2/2] END max_depth=12, n_estimators=25; balanced_accuracy: (test=0.867) f1_macro: (test=0.538) total time= 3.1min\n",
            "[CV 1/2] END max_depth=12, n_estimators=30; balanced_accuracy: (test=0.861) f1_macro: (test=0.528) total time= 3.7min\n",
            "[CV 2/2] END max_depth=12, n_estimators=30; balanced_accuracy: (test=0.861) f1_macro: (test=0.540) total time= 3.7min\n",
            "[CV 1/2] END max_depth=12, n_estimators=35; balanced_accuracy: (test=0.864) f1_macro: (test=0.542) total time= 4.3min\n",
            "[CV 2/2] END max_depth=12, n_estimators=35; balanced_accuracy: (test=0.865) f1_macro: (test=0.537) total time= 4.5min\n",
            "[CV 1/2] END max_depth=12, n_estimators=40; balanced_accuracy: (test=0.871) f1_macro: (test=0.531) total time= 5.0min\n",
            "[CV 2/2] END max_depth=12, n_estimators=40; balanced_accuracy: (test=0.870) f1_macro: (test=0.534) total time= 5.0min\n",
            "[CV 1/2] END max_depth=12, n_estimators=45; balanced_accuracy: (test=0.871) f1_macro: (test=0.528) total time= 5.7min\n",
            "[CV 2/2] END max_depth=12, n_estimators=45; balanced_accuracy: (test=0.868) f1_macro: (test=0.526) total time= 5.6min\n",
            "[CV 1/2] END max_depth=12, n_estimators=50; balanced_accuracy: (test=0.869) f1_macro: (test=0.531) total time= 6.2min\n",
            "[CV 2/2] END max_depth=12, n_estimators=50; balanced_accuracy: (test=0.870) f1_macro: (test=0.542) total time= 6.2min\n",
            "[CV 1/2] END max_depth=12, n_estimators=55; balanced_accuracy: (test=0.868) f1_macro: (test=0.532) total time= 6.7min\n",
            "[CV 2/2] END max_depth=12, n_estimators=55; balanced_accuracy: (test=0.866) f1_macro: (test=0.530) total time= 8.4min\n",
            "[CV 1/2] END max_depth=13, n_estimators=5; balanced_accuracy: (test=0.836) f1_macro: (test=0.524) total time=  53.1s\n",
            "[CV 2/2] END max_depth=13, n_estimators=5; balanced_accuracy: (test=0.844) f1_macro: (test=0.529) total time=  56.0s\n",
            "[CV 1/2] END max_depth=13, n_estimators=10; balanced_accuracy: (test=0.848) f1_macro: (test=0.528) total time= 1.7min\n",
            "[CV 2/2] END max_depth=13, n_estimators=10; balanced_accuracy: (test=0.851) f1_macro: (test=0.548) total time= 1.7min\n",
            "[CV 1/2] END max_depth=13, n_estimators=15; balanced_accuracy: (test=0.869) f1_macro: (test=0.551) total time= 2.5min\n",
            "[CV 2/2] END max_depth=13, n_estimators=15; balanced_accuracy: (test=0.860) f1_macro: (test=0.551) total time= 2.6min\n",
            "[CV 1/2] END max_depth=13, n_estimators=20; balanced_accuracy: (test=0.868) f1_macro: (test=0.581) total time= 3.3min\n",
            "[CV 2/2] END max_depth=13, n_estimators=20; balanced_accuracy: (test=0.861) f1_macro: (test=0.568) total time= 3.1min\n",
            "[CV 1/2] END max_depth=13, n_estimators=25; balanced_accuracy: (test=0.872) f1_macro: (test=0.541) total time= 4.0min\n",
            "[CV 2/2] END max_depth=13, n_estimators=25; balanced_accuracy: (test=0.853) f1_macro: (test=0.546) total time= 4.0min\n",
            "[CV 1/2] END max_depth=13, n_estimators=30; balanced_accuracy: (test=0.866) f1_macro: (test=0.559) total time= 4.8min\n",
            "[CV 2/2] END max_depth=13, n_estimators=30; balanced_accuracy: (test=0.859) f1_macro: (test=0.554) total time= 4.8min\n",
            "[CV 1/2] END max_depth=13, n_estimators=35; balanced_accuracy: (test=0.863) f1_macro: (test=0.551) total time= 5.7min\n",
            "[CV 2/2] END max_depth=13, n_estimators=35; balanced_accuracy: (test=0.866) f1_macro: (test=0.565) total time= 5.6min\n",
            "[CV 1/2] END max_depth=13, n_estimators=40; balanced_accuracy: (test=0.870) f1_macro: (test=0.569) total time= 6.4min\n",
            "[CV 2/2] END max_depth=13, n_estimators=40; balanced_accuracy: (test=0.862) f1_macro: (test=0.554) total time= 6.3min\n",
            "[CV 1/2] END max_depth=13, n_estimators=45; balanced_accuracy: (test=0.861) f1_macro: (test=0.554) total time= 7.3min\n",
            "[CV 2/2] END max_depth=13, n_estimators=45; balanced_accuracy: (test=0.869) f1_macro: (test=0.548) total time= 7.1min\n",
            "[CV 1/2] END max_depth=13, n_estimators=50; balanced_accuracy: (test=0.867) f1_macro: (test=0.553) total time= 8.3min\n",
            "[CV 2/2] END max_depth=13, n_estimators=50; balanced_accuracy: (test=0.879) f1_macro: (test=0.571) total time= 8.7min\n",
            "[CV 1/2] END max_depth=13, n_estimators=55; balanced_accuracy: (test=0.878) f1_macro: (test=0.592) total time= 9.4min\n",
            "[CV 2/2] END max_depth=13, n_estimators=55; balanced_accuracy: (test=0.872) f1_macro: (test=0.565) total time= 9.5min\n",
            "[CV 1/2] END max_depth=14, n_estimators=5; balanced_accuracy: (test=0.854) f1_macro: (test=0.568) total time=  58.4s\n",
            "[CV 2/2] END max_depth=14, n_estimators=5; balanced_accuracy: (test=0.833) f1_macro: (test=0.553) total time=  58.9s\n",
            "[CV 1/2] END max_depth=14, n_estimators=10; balanced_accuracy: (test=0.861) f1_macro: (test=0.593) total time= 1.9min\n",
            "[CV 2/2] END max_depth=14, n_estimators=10; balanced_accuracy: (test=0.836) f1_macro: (test=0.567) total time= 1.9min\n",
            "[CV 1/2] END max_depth=14, n_estimators=15; balanced_accuracy: (test=0.860) f1_macro: (test=0.588) total time= 2.9min\n",
            "[CV 2/2] END max_depth=14, n_estimators=15; balanced_accuracy: (test=0.861) f1_macro: (test=0.575) total time= 2.8min\n",
            "[CV 1/2] END max_depth=14, n_estimators=20; balanced_accuracy: (test=0.864) f1_macro: (test=0.580) total time= 3.6min\n",
            "[CV 2/2] END max_depth=14, n_estimators=20; balanced_accuracy: (test=0.863) f1_macro: (test=0.565) total time= 3.7min\n",
            "[CV 1/2] END max_depth=14, n_estimators=25; balanced_accuracy: (test=0.870) f1_macro: (test=0.569) total time= 4.6min\n",
            "[CV 2/2] END max_depth=14, n_estimators=25; balanced_accuracy: (test=0.860) f1_macro: (test=0.569) total time= 4.7min\n",
            "[CV 1/2] END max_depth=14, n_estimators=30; balanced_accuracy: (test=0.865) f1_macro: (test=0.587) total time= 5.5min\n",
            "[CV 2/2] END max_depth=14, n_estimators=30; balanced_accuracy: (test=0.867) f1_macro: (test=0.597) total time= 5.4min\n",
            "[CV 1/2] END max_depth=14, n_estimators=35; balanced_accuracy: (test=0.857) f1_macro: (test=0.561) total time= 6.2min\n",
            "[CV 2/2] END max_depth=14, n_estimators=35; balanced_accuracy: (test=0.850) f1_macro: (test=0.568) total time= 6.3min\n",
            "[CV 1/2] END max_depth=14, n_estimators=40; balanced_accuracy: (test=0.867) f1_macro: (test=0.576) total time= 7.2min\n",
            "[CV 2/2] END max_depth=14, n_estimators=40; balanced_accuracy: (test=0.867) f1_macro: (test=0.572) total time= 7.5min\n",
            "[CV 1/2] END max_depth=14, n_estimators=45; balanced_accuracy: (test=0.880) f1_macro: (test=0.591) total time= 8.5min\n",
            "[CV 2/2] END max_depth=14, n_estimators=45; balanced_accuracy: (test=0.859) f1_macro: (test=0.574) total time= 8.4min\n",
            "[CV 1/2] END max_depth=14, n_estimators=50; balanced_accuracy: (test=0.872) f1_macro: (test=0.577) total time= 9.2min\n",
            "[CV 2/2] END max_depth=14, n_estimators=50; balanced_accuracy: (test=0.863) f1_macro: (test=0.578) total time= 9.1min\n",
            "[CV 1/2] END max_depth=14, n_estimators=55; balanced_accuracy: (test=0.867) f1_macro: (test=0.585) total time= 9.9min\n",
            "[CV 2/2] END max_depth=14, n_estimators=55; balanced_accuracy: (test=0.864) f1_macro: (test=0.588) total time= 9.7min\n",
            "time: 15h 21min 17s (started: 2021-12-26 00:27:21 +00:00)\n"
          ]
        }
      ]
    },
    {
      "cell_type": "code",
      "source": [
        "clf = RandomForestClassifier(max_samples=20000, n_estimators=100, max_depth=9, class_weight='balanced_subsample')\n",
        "clf.fit(dataset.X(), dataset.Y())\n",
        "dataset.predict_clf(clf)"
      ],
      "metadata": {
        "colab": {
          "base_uri": "https://localhost:8080/"
        },
        "id": "O1PyOnrgbMHT",
        "outputId": "bf4db8ed-5384-47b4-9308-6691447428ff"
      },
      "execution_count": null,
      "outputs": [
        {
          "output_type": "stream",
          "name": "stdout",
          "text": [
            "time: 1min 45s (started: 2021-12-22 01:03:13 +00:00)\n"
          ]
        }
      ]
    },
    {
      "cell_type": "code",
      "source": [
        "r = CvResults(results)\n",
        "r.plot('n_estimators', 'max_depth', 'balanced_accuracy')"
      ],
      "metadata": {
        "colab": {
          "base_uri": "https://localhost:8080/",
          "height": 642
        },
        "id": "0oFuGhg0-qt-",
        "outputId": "c2416201-621a-4c10-86ad-9211758dfc3b"
      },
      "execution_count": null,
      "outputs": [
        {
          "output_type": "display_data",
          "data": {
            "image/png": "[encoded data removed]",
            "text/plain": [
              "<Figure size 1800x720 with 1 Axes>"
            ]
          },
          "metadata": {
            "needs_background": "light"
          }
        },
        {
          "output_type": "stream",
          "name": "stdout",
          "text": [
            "time: 790 ms (started: 2021-12-26 18:26:58 +00:00)\n"
          ]
        }
      ]
    },
    {
      "cell_type": "code",
      "source": [
        "dataset._train = dataset._train[dataset._train['Cover_Type'] != 5]\n",
        "from imblearn.ensemble import BalancedRandomForestClassifier\n",
        "clf = BalancedRandomForestClassifier(max_samples=20000, random_state=0)\n",
        "params = {\"max_depth\": range(5, 15),\n",
        "          \"n_estimators\": range(10, 101, 10)}\n",
        "results = param_search_xy(clf, dataset.X(), dataset.Y(), params, 2, True)\n"
      ],
      "metadata": {
        "colab": {
          "base_uri": "https://localhost:8080/",
          "height": 1000
        },
        "id": "9RlL5LarCX1t",
        "outputId": "ba5ec3b8-f504-4e8f-c586-8839c9adce42"
      },
      "execution_count": null,
      "outputs": [
        {
          "metadata": {
            "tags": null
          },
          "name": "stdout",
          "output_type": "stream",
          "text": [
            "Fitting 2 folds for each of 100 candidates, totalling 200 fits\n",
            "[CV 1/2] END max_depth=5, n_estimators=10; balanced_accuracy: (test=0.707) f1_macro: (test=0.303) total time=  25.6s\n",
            "[CV 2/2] END max_depth=5, n_estimators=10; balanced_accuracy: (test=0.751) f1_macro: (test=0.352) total time=  23.2s\n",
            "[CV 1/2] END max_depth=5, n_estimators=20; balanced_accuracy: (test=0.763) f1_macro: (test=0.360) total time=  38.2s\n",
            "[CV 2/2] END max_depth=5, n_estimators=20; balanced_accuracy: (test=0.789) f1_macro: (test=0.387) total time=  38.5s\n",
            "[CV 1/2] END max_depth=5, n_estimators=30; balanced_accuracy: (test=0.794) f1_macro: (test=0.412) total time=  52.3s\n",
            "[CV 2/2] END max_depth=5, n_estimators=30; balanced_accuracy: (test=0.804) f1_macro: (test=0.418) total time=  53.0s\n",
            "[CV 1/2] END max_depth=5, n_estimators=40; balanced_accuracy: (test=0.800) f1_macro: (test=0.414) total time= 1.1min\n",
            "[CV 2/2] END max_depth=5, n_estimators=40; balanced_accuracy: (test=0.806) f1_macro: (test=0.408) total time= 1.1min\n",
            "[CV 1/2] END max_depth=5, n_estimators=50; balanced_accuracy: (test=0.796) f1_macro: (test=0.396) total time= 1.4min\n",
            "[CV 2/2] END max_depth=5, n_estimators=50; balanced_accuracy: (test=0.810) f1_macro: (test=0.409) total time= 1.4min\n",
            "[CV 1/2] END max_depth=5, n_estimators=60; balanced_accuracy: (test=0.790) f1_macro: (test=0.388) total time= 1.6min\n",
            "[CV 2/2] END max_depth=5, n_estimators=60; balanced_accuracy: (test=0.808) f1_macro: (test=0.413) total time= 1.6min\n",
            "[CV 1/2] END max_depth=5, n_estimators=70; balanced_accuracy: (test=0.807) f1_macro: (test=0.423) total time= 1.9min\n",
            "[CV 2/2] END max_depth=5, n_estimators=70; balanced_accuracy: (test=0.814) f1_macro: (test=0.422) total time= 1.9min\n",
            "[CV 1/2] END max_depth=5, n_estimators=80; balanced_accuracy: (test=0.807) f1_macro: (test=0.425) total time= 2.1min\n",
            "[CV 2/2] END max_depth=5, n_estimators=80; balanced_accuracy: (test=0.814) f1_macro: (test=0.424) total time= 2.1min\n",
            "[CV 1/2] END max_depth=5, n_estimators=90; balanced_accuracy: (test=0.807) f1_macro: (test=0.423) total time= 2.3min\n",
            "[CV 2/2] END max_depth=5, n_estimators=90; balanced_accuracy: (test=0.808) f1_macro: (test=0.422) total time= 2.4min\n",
            "[CV 1/2] END max_depth=5, n_estimators=100; balanced_accuracy: (test=0.808) f1_macro: (test=0.425) total time= 2.6min\n",
            "[CV 2/2] END max_depth=5, n_estimators=100; balanced_accuracy: (test=0.807) f1_macro: (test=0.421) total time= 2.6min\n",
            "[CV 1/2] END max_depth=6, n_estimators=10; balanced_accuracy: (test=0.752) f1_macro: (test=0.359) total time=  22.8s\n",
            "[CV 2/2] END max_depth=6, n_estimators=10; balanced_accuracy: (test=0.789) f1_macro: (test=0.406) total time=  22.9s\n",
            "[CV 1/2] END max_depth=6, n_estimators=20; balanced_accuracy: (test=0.801) f1_macro: (test=0.409) total time=  37.2s\n",
            "[CV 2/2] END max_depth=6, n_estimators=20; balanced_accuracy: (test=0.814) f1_macro: (test=0.420) total time=  38.8s\n",
            "[CV 1/2] END max_depth=6, n_estimators=30; balanced_accuracy: (test=0.825) f1_macro: (test=0.435) total time=  52.2s\n",
            "[CV 2/2] END max_depth=6, n_estimators=30; balanced_accuracy: (test=0.823) f1_macro: (test=0.430) total time=  53.3s\n",
            "[CV 1/2] END max_depth=6, n_estimators=40; balanced_accuracy: (test=0.817) f1_macro: (test=0.428) total time= 1.1min\n",
            "[CV 2/2] END max_depth=6, n_estimators=40; balanced_accuracy: (test=0.825) f1_macro: (test=0.434) total time= 1.1min\n",
            "[CV 1/2] END max_depth=6, n_estimators=50; balanced_accuracy: (test=0.815) f1_macro: (test=0.425) total time= 1.4min\n",
            "[CV 2/2] END max_depth=6, n_estimators=50; balanced_accuracy: (test=0.822) f1_macro: (test=0.427) total time= 1.4min\n",
            "[CV 1/2] END max_depth=6, n_estimators=60; balanced_accuracy: (test=0.815) f1_macro: (test=0.426) total time= 1.6min\n",
            "[CV 2/2] END max_depth=6, n_estimators=60; balanced_accuracy: (test=0.826) f1_macro: (test=0.433) total time= 1.6min\n",
            "[CV 1/2] END max_depth=6, n_estimators=70; balanced_accuracy: (test=0.815) f1_macro: (test=0.427) total time= 1.8min\n",
            "[CV 2/2] END max_depth=6, n_estimators=70; balanced_accuracy: (test=0.830) f1_macro: (test=0.439) total time= 1.9min\n",
            "[CV 1/2] END max_depth=6, n_estimators=80; balanced_accuracy: (test=0.817) f1_macro: (test=0.434) total time= 2.1min\n",
            "[CV 2/2] END max_depth=6, n_estimators=80; balanced_accuracy: (test=0.830) f1_macro: (test=0.443) total time= 2.1min\n",
            "[CV 1/2] END max_depth=6, n_estimators=90; balanced_accuracy: (test=0.817) f1_macro: (test=0.435) total time= 2.3min\n",
            "[CV 2/2] END max_depth=6, n_estimators=90; balanced_accuracy: (test=0.829) f1_macro: (test=0.444) total time= 2.4min\n",
            "[CV 1/2] END max_depth=6, n_estimators=100; balanced_accuracy: (test=0.819) f1_macro: (test=0.437) total time= 2.6min\n",
            "[CV 2/2] END max_depth=6, n_estimators=100; balanced_accuracy: (test=0.828) f1_macro: (test=0.443) total time= 2.6min\n",
            "[CV 1/2] END max_depth=7, n_estimators=10; balanced_accuracy: (test=0.768) f1_macro: (test=0.405) total time=  22.8s\n",
            "[CV 2/2] END max_depth=7, n_estimators=10; balanced_accuracy: (test=0.808) f1_macro: (test=0.435) total time=  22.7s\n",
            "[CV 1/2] END max_depth=7, n_estimators=20; balanced_accuracy: (test=0.817) f1_macro: (test=0.444) total time=  36.9s\n",
            "[CV 2/2] END max_depth=7, n_estimators=20; balanced_accuracy: (test=0.819) f1_macro: (test=0.442) total time=  37.7s\n",
            "[CV 1/2] END max_depth=7, n_estimators=30; balanced_accuracy: (test=0.824) f1_macro: (test=0.442) total time=  51.9s\n",
            "[CV 2/2] END max_depth=7, n_estimators=30; balanced_accuracy: (test=0.830) f1_macro: (test=0.444) total time=  52.6s\n",
            "[CV 1/2] END max_depth=7, n_estimators=40; balanced_accuracy: (test=0.827) f1_macro: (test=0.446) total time= 1.1min\n",
            "[CV 2/2] END max_depth=7, n_estimators=40; balanced_accuracy: (test=0.831) f1_macro: (test=0.452) total time= 1.1min\n",
            "[CV 1/2] END max_depth=7, n_estimators=50; balanced_accuracy: (test=0.832) f1_macro: (test=0.445) total time= 1.4min\n",
            "[CV 2/2] END max_depth=7, n_estimators=50; balanced_accuracy: (test=0.832) f1_macro: (test=0.447) total time= 1.4min\n",
            "[CV 1/2] END max_depth=7, n_estimators=60; balanced_accuracy: (test=0.831) f1_macro: (test=0.445) total time= 1.6min\n",
            "[CV 2/2] END max_depth=7, n_estimators=60; balanced_accuracy: (test=0.833) f1_macro: (test=0.450) total time= 1.6min\n",
            "[CV 1/2] END max_depth=7, n_estimators=70; balanced_accuracy: (test=0.832) f1_macro: (test=0.447) total time= 1.8min\n",
            "[CV 2/2] END max_depth=7, n_estimators=70; balanced_accuracy: (test=0.835) f1_macro: (test=0.453) total time= 1.9min\n",
            "[CV 1/2] END max_depth=7, n_estimators=80; balanced_accuracy: (test=0.832) f1_macro: (test=0.446) total time= 2.1min\n",
            "[CV 2/2] END max_depth=7, n_estimators=80; balanced_accuracy: (test=0.834) f1_macro: (test=0.456) total time= 2.1min\n"
          ]
        },
        {
          "output_type": "error",
          "ename": "KeyboardInterrupt",
          "evalue": "ignored",
          "traceback": [
            "\u001b[0;31m---------------------------------------------------------------------------\u001b[0m",
            "\u001b[0;31mKeyboardInterrupt\u001b[0m                         Traceback (most recent call last)",
            "\u001b[0;32m<ipython-input-14-d3a443cad766>\u001b[0m in \u001b[0;36m<module>\u001b[0;34m()\u001b[0m\n\u001b[1;32m      4\u001b[0m params = {\"max_depth\": range(5, 15),\n\u001b[1;32m      5\u001b[0m           \"n_estimators\": range(10, 101, 10)}\n\u001b[0;32m----> 6\u001b[0;31m \u001b[0mresults\u001b[0m \u001b[0;34m=\u001b[0m \u001b[0mparam_search_xy\u001b[0m\u001b[0;34m(\u001b[0m\u001b[0mclf\u001b[0m\u001b[0;34m,\u001b[0m \u001b[0mdataset\u001b[0m\u001b[0;34m.\u001b[0m\u001b[0mX\u001b[0m\u001b[0;34m(\u001b[0m\u001b[0;34m)\u001b[0m\u001b[0;34m,\u001b[0m \u001b[0mdataset\u001b[0m\u001b[0;34m.\u001b[0m\u001b[0mY\u001b[0m\u001b[0;34m(\u001b[0m\u001b[0;34m)\u001b[0m\u001b[0;34m,\u001b[0m \u001b[0mparams\u001b[0m\u001b[0;34m,\u001b[0m \u001b[0;36m2\u001b[0m\u001b[0;34m,\u001b[0m \u001b[0;32mTrue\u001b[0m\u001b[0;34m)\u001b[0m\u001b[0;34m\u001b[0m\u001b[0;34m\u001b[0m\u001b[0m\n\u001b[0m",
            "\u001b[0;32m<ipython-input-8-6af17ab0d4e0>\u001b[0m in \u001b[0;36mparam_search_xy\u001b[0;34m(clf, X, Y, params, folds, shuffle)\u001b[0m\n\u001b[1;32m      5\u001b[0m     \u001b[0msearch\u001b[0m \u001b[0;34m=\u001b[0m \u001b[0mGridSearchCV\u001b[0m\u001b[0;34m(\u001b[0m\u001b[0mclf\u001b[0m\u001b[0;34m,\u001b[0m \u001b[0mparam_grid\u001b[0m\u001b[0;34m=\u001b[0m\u001b[0mparams\u001b[0m\u001b[0;34m,\u001b[0m \u001b[0mverbose\u001b[0m\u001b[0;34m=\u001b[0m\u001b[0;36m3\u001b[0m\u001b[0;34m,\u001b[0m \u001b[0mcv\u001b[0m\u001b[0;34m=\u001b[0m\u001b[0mcv\u001b[0m\u001b[0;34m,\u001b[0m \u001b[0mscoring\u001b[0m\u001b[0;34m=\u001b[0m\u001b[0;34m[\u001b[0m\u001b[0;34m'f1_macro'\u001b[0m\u001b[0;34m,\u001b[0m \u001b[0;34m'balanced_accuracy'\u001b[0m\u001b[0;34m]\u001b[0m\u001b[0;34m,\u001b[0m \u001b[0mrefit\u001b[0m\u001b[0;34m=\u001b[0m\u001b[0;32mFalse\u001b[0m\u001b[0;34m)\u001b[0m\u001b[0;34m\u001b[0m\u001b[0;34m\u001b[0m\u001b[0m\n\u001b[1;32m      6\u001b[0m \u001b[0;34m\u001b[0m\u001b[0m\n\u001b[0;32m----> 7\u001b[0;31m   \u001b[0msearch\u001b[0m\u001b[0;34m.\u001b[0m\u001b[0mfit\u001b[0m\u001b[0;34m(\u001b[0m\u001b[0mX\u001b[0m\u001b[0;34m,\u001b[0m \u001b[0mY\u001b[0m\u001b[0;34m)\u001b[0m\u001b[0;34m\u001b[0m\u001b[0;34m\u001b[0m\u001b[0m\n\u001b[0m\u001b[1;32m      8\u001b[0m   \u001b[0;32mreturn\u001b[0m \u001b[0msearch\u001b[0m\u001b[0;34m.\u001b[0m\u001b[0mcv_results_\u001b[0m\u001b[0;34m\u001b[0m\u001b[0;34m\u001b[0m\u001b[0m\n",
            "\u001b[0;32m/usr/local/lib/python3.7/dist-packages/sklearn/model_selection/_search.py\u001b[0m in \u001b[0;36mfit\u001b[0;34m(self, X, y, groups, **fit_params)\u001b[0m\n\u001b[1;32m    889\u001b[0m                 \u001b[0;32mreturn\u001b[0m \u001b[0mresults\u001b[0m\u001b[0;34m\u001b[0m\u001b[0;34m\u001b[0m\u001b[0m\n\u001b[1;32m    890\u001b[0m \u001b[0;34m\u001b[0m\u001b[0m\n\u001b[0;32m--> 891\u001b[0;31m             \u001b[0mself\u001b[0m\u001b[0;34m.\u001b[0m\u001b[0m_run_search\u001b[0m\u001b[0;34m(\u001b[0m\u001b[0mevaluate_candidates\u001b[0m\u001b[0;34m)\u001b[0m\u001b[0;34m\u001b[0m\u001b[0;34m\u001b[0m\u001b[0m\n\u001b[0m\u001b[1;32m    892\u001b[0m \u001b[0;34m\u001b[0m\u001b[0m\n\u001b[1;32m    893\u001b[0m             \u001b[0;31m# multimetric is determined here because in the case of a callable\u001b[0m\u001b[0;34m\u001b[0m\u001b[0;34m\u001b[0m\u001b[0;34m\u001b[0m\u001b[0m\n",
            "\u001b[0;32m/usr/local/lib/python3.7/dist-packages/sklearn/model_selection/_search.py\u001b[0m in \u001b[0;36m_run_search\u001b[0;34m(self, evaluate_candidates)\u001b[0m\n\u001b[1;32m   1390\u001b[0m     \u001b[0;32mdef\u001b[0m \u001b[0m_run_search\u001b[0m\u001b[0;34m(\u001b[0m\u001b[0mself\u001b[0m\u001b[0;34m,\u001b[0m \u001b[0mevaluate_candidates\u001b[0m\u001b[0;34m)\u001b[0m\u001b[0;34m:\u001b[0m\u001b[0;34m\u001b[0m\u001b[0;34m\u001b[0m\u001b[0m\n\u001b[1;32m   1391\u001b[0m         \u001b[0;34m\"\"\"Search all candidates in param_grid\"\"\"\u001b[0m\u001b[0;34m\u001b[0m\u001b[0;34m\u001b[0m\u001b[0m\n\u001b[0;32m-> 1392\u001b[0;31m         \u001b[0mevaluate_candidates\u001b[0m\u001b[0;34m(\u001b[0m\u001b[0mParameterGrid\u001b[0m\u001b[0;34m(\u001b[0m\u001b[0mself\u001b[0m\u001b[0;34m.\u001b[0m\u001b[0mparam_grid\u001b[0m\u001b[0;34m)\u001b[0m\u001b[0;34m)\u001b[0m\u001b[0;34m\u001b[0m\u001b[0;34m\u001b[0m\u001b[0m\n\u001b[0m\u001b[1;32m   1393\u001b[0m \u001b[0;34m\u001b[0m\u001b[0m\n\u001b[1;32m   1394\u001b[0m \u001b[0;34m\u001b[0m\u001b[0m\n",
            "\u001b[0;32m/usr/local/lib/python3.7/dist-packages/sklearn/model_selection/_search.py\u001b[0m in \u001b[0;36mevaluate_candidates\u001b[0;34m(candidate_params, cv, more_results)\u001b[0m\n\u001b[1;32m    849\u001b[0m                     )\n\u001b[1;32m    850\u001b[0m                     for (cand_idx, parameters), (split_idx, (train, test)) in product(\n\u001b[0;32m--> 851\u001b[0;31m                         \u001b[0menumerate\u001b[0m\u001b[0;34m(\u001b[0m\u001b[0mcandidate_params\u001b[0m\u001b[0;34m)\u001b[0m\u001b[0;34m,\u001b[0m \u001b[0menumerate\u001b[0m\u001b[0;34m(\u001b[0m\u001b[0mcv\u001b[0m\u001b[0;34m.\u001b[0m\u001b[0msplit\u001b[0m\u001b[0;34m(\u001b[0m\u001b[0mX\u001b[0m\u001b[0;34m,\u001b[0m \u001b[0my\u001b[0m\u001b[0;34m,\u001b[0m \u001b[0mgroups\u001b[0m\u001b[0;34m)\u001b[0m\u001b[0;34m)\u001b[0m\u001b[0;34m\u001b[0m\u001b[0;34m\u001b[0m\u001b[0m\n\u001b[0m\u001b[1;32m    852\u001b[0m                     )\n\u001b[1;32m    853\u001b[0m                 )\n",
            "\u001b[0;32m/usr/local/lib/python3.7/dist-packages/joblib/parallel.py\u001b[0m in \u001b[0;36m__call__\u001b[0;34m(self, iterable)\u001b[0m\n\u001b[1;32m   1044\u001b[0m                 \u001b[0mself\u001b[0m\u001b[0;34m.\u001b[0m\u001b[0m_iterating\u001b[0m \u001b[0;34m=\u001b[0m \u001b[0mself\u001b[0m\u001b[0;34m.\u001b[0m\u001b[0m_original_iterator\u001b[0m \u001b[0;32mis\u001b[0m \u001b[0;32mnot\u001b[0m \u001b[0;32mNone\u001b[0m\u001b[0;34m\u001b[0m\u001b[0;34m\u001b[0m\u001b[0m\n\u001b[1;32m   1045\u001b[0m \u001b[0;34m\u001b[0m\u001b[0m\n\u001b[0;32m-> 1046\u001b[0;31m             \u001b[0;32mwhile\u001b[0m \u001b[0mself\u001b[0m\u001b[0;34m.\u001b[0m\u001b[0mdispatch_one_batch\u001b[0m\u001b[0;34m(\u001b[0m\u001b[0miterator\u001b[0m\u001b[0;34m)\u001b[0m\u001b[0;34m:\u001b[0m\u001b[0;34m\u001b[0m\u001b[0;34m\u001b[0m\u001b[0m\n\u001b[0m\u001b[1;32m   1047\u001b[0m                 \u001b[0;32mpass\u001b[0m\u001b[0;34m\u001b[0m\u001b[0;34m\u001b[0m\u001b[0m\n\u001b[1;32m   1048\u001b[0m \u001b[0;34m\u001b[0m\u001b[0m\n",
            "\u001b[0;32m/usr/local/lib/python3.7/dist-packages/joblib/parallel.py\u001b[0m in \u001b[0;36mdispatch_one_batch\u001b[0;34m(self, iterator)\u001b[0m\n\u001b[1;32m    859\u001b[0m                 \u001b[0;32mreturn\u001b[0m \u001b[0;32mFalse\u001b[0m\u001b[0;34m\u001b[0m\u001b[0;34m\u001b[0m\u001b[0m\n\u001b[1;32m    860\u001b[0m             \u001b[0;32melse\u001b[0m\u001b[0;34m:\u001b[0m\u001b[0;34m\u001b[0m\u001b[0;34m\u001b[0m\u001b[0m\n\u001b[0;32m--> 861\u001b[0;31m                 \u001b[0mself\u001b[0m\u001b[0;34m.\u001b[0m\u001b[0m_dispatch\u001b[0m\u001b[0;34m(\u001b[0m\u001b[0mtasks\u001b[0m\u001b[0;34m)\u001b[0m\u001b[0;34m\u001b[0m\u001b[0;34m\u001b[0m\u001b[0m\n\u001b[0m\u001b[1;32m    862\u001b[0m                 \u001b[0;32mreturn\u001b[0m \u001b[0;32mTrue\u001b[0m\u001b[0;34m\u001b[0m\u001b[0;34m\u001b[0m\u001b[0m\n\u001b[1;32m    863\u001b[0m \u001b[0;34m\u001b[0m\u001b[0m\n",
            "\u001b[0;32m/usr/local/lib/python3.7/dist-packages/joblib/parallel.py\u001b[0m in \u001b[0;36m_dispatch\u001b[0;34m(self, batch)\u001b[0m\n\u001b[1;32m    777\u001b[0m         \u001b[0;32mwith\u001b[0m \u001b[0mself\u001b[0m\u001b[0;34m.\u001b[0m\u001b[0m_lock\u001b[0m\u001b[0;34m:\u001b[0m\u001b[0;34m\u001b[0m\u001b[0;34m\u001b[0m\u001b[0m\n\u001b[1;32m    778\u001b[0m             \u001b[0mjob_idx\u001b[0m \u001b[0;34m=\u001b[0m \u001b[0mlen\u001b[0m\u001b[0;34m(\u001b[0m\u001b[0mself\u001b[0m\u001b[0;34m.\u001b[0m\u001b[0m_jobs\u001b[0m\u001b[0;34m)\u001b[0m\u001b[0;34m\u001b[0m\u001b[0;34m\u001b[0m\u001b[0m\n\u001b[0;32m--> 779\u001b[0;31m             \u001b[0mjob\u001b[0m \u001b[0;34m=\u001b[0m \u001b[0mself\u001b[0m\u001b[0;34m.\u001b[0m\u001b[0m_backend\u001b[0m\u001b[0;34m.\u001b[0m\u001b[0mapply_async\u001b[0m\u001b[0;34m(\u001b[0m\u001b[0mbatch\u001b[0m\u001b[0;34m,\u001b[0m \u001b[0mcallback\u001b[0m\u001b[0;34m=\u001b[0m\u001b[0mcb\u001b[0m\u001b[0;34m)\u001b[0m\u001b[0;34m\u001b[0m\u001b[0;34m\u001b[0m\u001b[0m\n\u001b[0m\u001b[1;32m    780\u001b[0m             \u001b[0;31m# A job can complete so quickly than its callback is\u001b[0m\u001b[0;34m\u001b[0m\u001b[0;34m\u001b[0m\u001b[0;34m\u001b[0m\u001b[0m\n\u001b[1;32m    781\u001b[0m             \u001b[0;31m# called before we get here, causing self._jobs to\u001b[0m\u001b[0;34m\u001b[0m\u001b[0;34m\u001b[0m\u001b[0;34m\u001b[0m\u001b[0m\n",
            "\u001b[0;32m/usr/local/lib/python3.7/dist-packages/joblib/_parallel_backends.py\u001b[0m in \u001b[0;36mapply_async\u001b[0;34m(self, func, callback)\u001b[0m\n\u001b[1;32m    206\u001b[0m     \u001b[0;32mdef\u001b[0m \u001b[0mapply_async\u001b[0m\u001b[0;34m(\u001b[0m\u001b[0mself\u001b[0m\u001b[0;34m,\u001b[0m \u001b[0mfunc\u001b[0m\u001b[0;34m,\u001b[0m \u001b[0mcallback\u001b[0m\u001b[0;34m=\u001b[0m\u001b[0;32mNone\u001b[0m\u001b[0;34m)\u001b[0m\u001b[0;34m:\u001b[0m\u001b[0;34m\u001b[0m\u001b[0;34m\u001b[0m\u001b[0m\n\u001b[1;32m    207\u001b[0m         \u001b[0;34m\"\"\"Schedule a func to be run\"\"\"\u001b[0m\u001b[0;34m\u001b[0m\u001b[0;34m\u001b[0m\u001b[0m\n\u001b[0;32m--> 208\u001b[0;31m         \u001b[0mresult\u001b[0m \u001b[0;34m=\u001b[0m \u001b[0mImmediateResult\u001b[0m\u001b[0;34m(\u001b[0m\u001b[0mfunc\u001b[0m\u001b[0;34m)\u001b[0m\u001b[0;34m\u001b[0m\u001b[0;34m\u001b[0m\u001b[0m\n\u001b[0m\u001b[1;32m    209\u001b[0m         \u001b[0;32mif\u001b[0m \u001b[0mcallback\u001b[0m\u001b[0;34m:\u001b[0m\u001b[0;34m\u001b[0m\u001b[0;34m\u001b[0m\u001b[0m\n\u001b[1;32m    210\u001b[0m             \u001b[0mcallback\u001b[0m\u001b[0;34m(\u001b[0m\u001b[0mresult\u001b[0m\u001b[0;34m)\u001b[0m\u001b[0;34m\u001b[0m\u001b[0;34m\u001b[0m\u001b[0m\n",
            "\u001b[0;32m/usr/local/lib/python3.7/dist-packages/joblib/_parallel_backends.py\u001b[0m in \u001b[0;36m__init__\u001b[0;34m(self, batch)\u001b[0m\n\u001b[1;32m    570\u001b[0m         \u001b[0;31m# Don't delay the application, to avoid keeping the input\u001b[0m\u001b[0;34m\u001b[0m\u001b[0;34m\u001b[0m\u001b[0;34m\u001b[0m\u001b[0m\n\u001b[1;32m    571\u001b[0m         \u001b[0;31m# arguments in memory\u001b[0m\u001b[0;34m\u001b[0m\u001b[0;34m\u001b[0m\u001b[0;34m\u001b[0m\u001b[0m\n\u001b[0;32m--> 572\u001b[0;31m         \u001b[0mself\u001b[0m\u001b[0;34m.\u001b[0m\u001b[0mresults\u001b[0m \u001b[0;34m=\u001b[0m \u001b[0mbatch\u001b[0m\u001b[0;34m(\u001b[0m\u001b[0;34m)\u001b[0m\u001b[0;34m\u001b[0m\u001b[0;34m\u001b[0m\u001b[0m\n\u001b[0m\u001b[1;32m    573\u001b[0m \u001b[0;34m\u001b[0m\u001b[0m\n\u001b[1;32m    574\u001b[0m     \u001b[0;32mdef\u001b[0m \u001b[0mget\u001b[0m\u001b[0;34m(\u001b[0m\u001b[0mself\u001b[0m\u001b[0;34m)\u001b[0m\u001b[0;34m:\u001b[0m\u001b[0;34m\u001b[0m\u001b[0;34m\u001b[0m\u001b[0m\n",
            "\u001b[0;32m/usr/local/lib/python3.7/dist-packages/joblib/parallel.py\u001b[0m in \u001b[0;36m__call__\u001b[0;34m(self)\u001b[0m\n\u001b[1;32m    261\u001b[0m         \u001b[0;32mwith\u001b[0m \u001b[0mparallel_backend\u001b[0m\u001b[0;34m(\u001b[0m\u001b[0mself\u001b[0m\u001b[0;34m.\u001b[0m\u001b[0m_backend\u001b[0m\u001b[0;34m,\u001b[0m \u001b[0mn_jobs\u001b[0m\u001b[0;34m=\u001b[0m\u001b[0mself\u001b[0m\u001b[0;34m.\u001b[0m\u001b[0m_n_jobs\u001b[0m\u001b[0;34m)\u001b[0m\u001b[0;34m:\u001b[0m\u001b[0;34m\u001b[0m\u001b[0;34m\u001b[0m\u001b[0m\n\u001b[1;32m    262\u001b[0m             return [func(*args, **kwargs)\n\u001b[0;32m--> 263\u001b[0;31m                     for func, args, kwargs in self.items]\n\u001b[0m\u001b[1;32m    264\u001b[0m \u001b[0;34m\u001b[0m\u001b[0m\n\u001b[1;32m    265\u001b[0m     \u001b[0;32mdef\u001b[0m \u001b[0m__reduce__\u001b[0m\u001b[0;34m(\u001b[0m\u001b[0mself\u001b[0m\u001b[0;34m)\u001b[0m\u001b[0;34m:\u001b[0m\u001b[0;34m\u001b[0m\u001b[0;34m\u001b[0m\u001b[0m\n",
            "\u001b[0;32m/usr/local/lib/python3.7/dist-packages/joblib/parallel.py\u001b[0m in \u001b[0;36m<listcomp>\u001b[0;34m(.0)\u001b[0m\n\u001b[1;32m    261\u001b[0m         \u001b[0;32mwith\u001b[0m \u001b[0mparallel_backend\u001b[0m\u001b[0;34m(\u001b[0m\u001b[0mself\u001b[0m\u001b[0;34m.\u001b[0m\u001b[0m_backend\u001b[0m\u001b[0;34m,\u001b[0m \u001b[0mn_jobs\u001b[0m\u001b[0;34m=\u001b[0m\u001b[0mself\u001b[0m\u001b[0;34m.\u001b[0m\u001b[0m_n_jobs\u001b[0m\u001b[0;34m)\u001b[0m\u001b[0;34m:\u001b[0m\u001b[0;34m\u001b[0m\u001b[0;34m\u001b[0m\u001b[0m\n\u001b[1;32m    262\u001b[0m             return [func(*args, **kwargs)\n\u001b[0;32m--> 263\u001b[0;31m                     for func, args, kwargs in self.items]\n\u001b[0m\u001b[1;32m    264\u001b[0m \u001b[0;34m\u001b[0m\u001b[0m\n\u001b[1;32m    265\u001b[0m     \u001b[0;32mdef\u001b[0m \u001b[0m__reduce__\u001b[0m\u001b[0;34m(\u001b[0m\u001b[0mself\u001b[0m\u001b[0;34m)\u001b[0m\u001b[0;34m:\u001b[0m\u001b[0;34m\u001b[0m\u001b[0;34m\u001b[0m\u001b[0m\n",
            "\u001b[0;32m/usr/local/lib/python3.7/dist-packages/sklearn/utils/fixes.py\u001b[0m in \u001b[0;36m__call__\u001b[0;34m(self, *args, **kwargs)\u001b[0m\n\u001b[1;32m    209\u001b[0m     \u001b[0;32mdef\u001b[0m \u001b[0m__call__\u001b[0m\u001b[0;34m(\u001b[0m\u001b[0mself\u001b[0m\u001b[0;34m,\u001b[0m \u001b[0;34m*\u001b[0m\u001b[0margs\u001b[0m\u001b[0;34m,\u001b[0m \u001b[0;34m**\u001b[0m\u001b[0mkwargs\u001b[0m\u001b[0;34m)\u001b[0m\u001b[0;34m:\u001b[0m\u001b[0;34m\u001b[0m\u001b[0;34m\u001b[0m\u001b[0m\n\u001b[1;32m    210\u001b[0m         \u001b[0;32mwith\u001b[0m \u001b[0mconfig_context\u001b[0m\u001b[0;34m(\u001b[0m\u001b[0;34m**\u001b[0m\u001b[0mself\u001b[0m\u001b[0;34m.\u001b[0m\u001b[0mconfig\u001b[0m\u001b[0;34m)\u001b[0m\u001b[0;34m:\u001b[0m\u001b[0;34m\u001b[0m\u001b[0;34m\u001b[0m\u001b[0m\n\u001b[0;32m--> 211\u001b[0;31m             \u001b[0;32mreturn\u001b[0m \u001b[0mself\u001b[0m\u001b[0;34m.\u001b[0m\u001b[0mfunction\u001b[0m\u001b[0;34m(\u001b[0m\u001b[0;34m*\u001b[0m\u001b[0margs\u001b[0m\u001b[0;34m,\u001b[0m \u001b[0;34m**\u001b[0m\u001b[0mkwargs\u001b[0m\u001b[0;34m)\u001b[0m\u001b[0;34m\u001b[0m\u001b[0;34m\u001b[0m\u001b[0m\n\u001b[0m\u001b[1;32m    212\u001b[0m \u001b[0;34m\u001b[0m\u001b[0m\n\u001b[1;32m    213\u001b[0m \u001b[0;34m\u001b[0m\u001b[0m\n",
            "\u001b[0;32m/usr/local/lib/python3.7/dist-packages/sklearn/model_selection/_validation.py\u001b[0m in \u001b[0;36m_fit_and_score\u001b[0;34m(estimator, X, y, scorer, train, test, verbose, parameters, fit_params, return_train_score, return_parameters, return_n_test_samples, return_times, return_estimator, split_progress, candidate_progress, error_score)\u001b[0m\n\u001b[1;32m    679\u001b[0m             \u001b[0mestimator\u001b[0m\u001b[0;34m.\u001b[0m\u001b[0mfit\u001b[0m\u001b[0;34m(\u001b[0m\u001b[0mX_train\u001b[0m\u001b[0;34m,\u001b[0m \u001b[0;34m**\u001b[0m\u001b[0mfit_params\u001b[0m\u001b[0;34m)\u001b[0m\u001b[0;34m\u001b[0m\u001b[0;34m\u001b[0m\u001b[0m\n\u001b[1;32m    680\u001b[0m         \u001b[0;32melse\u001b[0m\u001b[0;34m:\u001b[0m\u001b[0;34m\u001b[0m\u001b[0;34m\u001b[0m\u001b[0m\n\u001b[0;32m--> 681\u001b[0;31m             \u001b[0mestimator\u001b[0m\u001b[0;34m.\u001b[0m\u001b[0mfit\u001b[0m\u001b[0;34m(\u001b[0m\u001b[0mX_train\u001b[0m\u001b[0;34m,\u001b[0m \u001b[0my_train\u001b[0m\u001b[0;34m,\u001b[0m \u001b[0;34m**\u001b[0m\u001b[0mfit_params\u001b[0m\u001b[0;34m)\u001b[0m\u001b[0;34m\u001b[0m\u001b[0;34m\u001b[0m\u001b[0m\n\u001b[0m\u001b[1;32m    682\u001b[0m \u001b[0;34m\u001b[0m\u001b[0m\n\u001b[1;32m    683\u001b[0m     \u001b[0;32mexcept\u001b[0m \u001b[0mException\u001b[0m\u001b[0;34m:\u001b[0m\u001b[0;34m\u001b[0m\u001b[0;34m\u001b[0m\u001b[0m\n",
            "\u001b[0;32m/usr/local/lib/python3.7/dist-packages/imblearn/ensemble/_forest.py\u001b[0m in \u001b[0;36mfit\u001b[0;34m(self, X, y, sample_weight)\u001b[0m\n\u001b[1;32m    538\u001b[0m                     \u001b[0mn_samples_bootstrap\u001b[0m\u001b[0;34m=\u001b[0m\u001b[0mn_samples_bootstrap\u001b[0m\u001b[0;34m,\u001b[0m\u001b[0;34m\u001b[0m\u001b[0;34m\u001b[0m\u001b[0m\n\u001b[1;32m    539\u001b[0m                 )\n\u001b[0;32m--> 540\u001b[0;31m                 \u001b[0;32mfor\u001b[0m \u001b[0mi\u001b[0m\u001b[0;34m,\u001b[0m \u001b[0;34m(\u001b[0m\u001b[0ms\u001b[0m\u001b[0;34m,\u001b[0m \u001b[0mt\u001b[0m\u001b[0;34m)\u001b[0m \u001b[0;32min\u001b[0m \u001b[0menumerate\u001b[0m\u001b[0;34m(\u001b[0m\u001b[0mzip\u001b[0m\u001b[0;34m(\u001b[0m\u001b[0msamplers\u001b[0m\u001b[0;34m,\u001b[0m \u001b[0mtrees\u001b[0m\u001b[0;34m)\u001b[0m\u001b[0;34m)\u001b[0m\u001b[0;34m\u001b[0m\u001b[0;34m\u001b[0m\u001b[0m\n\u001b[0m\u001b[1;32m    541\u001b[0m             )\n\u001b[1;32m    542\u001b[0m             \u001b[0msamplers\u001b[0m\u001b[0;34m,\u001b[0m \u001b[0mtrees\u001b[0m \u001b[0;34m=\u001b[0m \u001b[0mzip\u001b[0m\u001b[0;34m(\u001b[0m\u001b[0;34m*\u001b[0m\u001b[0msamplers_trees\u001b[0m\u001b[0;34m)\u001b[0m\u001b[0;34m\u001b[0m\u001b[0;34m\u001b[0m\u001b[0m\n",
            "\u001b[0;32m/usr/local/lib/python3.7/dist-packages/joblib/parallel.py\u001b[0m in \u001b[0;36m__call__\u001b[0;34m(self, iterable)\u001b[0m\n\u001b[1;32m   1044\u001b[0m                 \u001b[0mself\u001b[0m\u001b[0;34m.\u001b[0m\u001b[0m_iterating\u001b[0m \u001b[0;34m=\u001b[0m \u001b[0mself\u001b[0m\u001b[0;34m.\u001b[0m\u001b[0m_original_iterator\u001b[0m \u001b[0;32mis\u001b[0m \u001b[0;32mnot\u001b[0m \u001b[0;32mNone\u001b[0m\u001b[0;34m\u001b[0m\u001b[0;34m\u001b[0m\u001b[0m\n\u001b[1;32m   1045\u001b[0m \u001b[0;34m\u001b[0m\u001b[0m\n\u001b[0;32m-> 1046\u001b[0;31m             \u001b[0;32mwhile\u001b[0m \u001b[0mself\u001b[0m\u001b[0;34m.\u001b[0m\u001b[0mdispatch_one_batch\u001b[0m\u001b[0;34m(\u001b[0m\u001b[0miterator\u001b[0m\u001b[0;34m)\u001b[0m\u001b[0;34m:\u001b[0m\u001b[0;34m\u001b[0m\u001b[0;34m\u001b[0m\u001b[0m\n\u001b[0m\u001b[1;32m   1047\u001b[0m                 \u001b[0;32mpass\u001b[0m\u001b[0;34m\u001b[0m\u001b[0;34m\u001b[0m\u001b[0m\n\u001b[1;32m   1048\u001b[0m \u001b[0;34m\u001b[0m\u001b[0m\n",
            "\u001b[0;32m/usr/local/lib/python3.7/dist-packages/joblib/parallel.py\u001b[0m in \u001b[0;36mdispatch_one_batch\u001b[0;34m(self, iterator)\u001b[0m\n\u001b[1;32m    859\u001b[0m                 \u001b[0;32mreturn\u001b[0m \u001b[0;32mFalse\u001b[0m\u001b[0;34m\u001b[0m\u001b[0;34m\u001b[0m\u001b[0m\n\u001b[1;32m    860\u001b[0m             \u001b[0;32melse\u001b[0m\u001b[0;34m:\u001b[0m\u001b[0;34m\u001b[0m\u001b[0;34m\u001b[0m\u001b[0m\n\u001b[0;32m--> 861\u001b[0;31m                 \u001b[0mself\u001b[0m\u001b[0;34m.\u001b[0m\u001b[0m_dispatch\u001b[0m\u001b[0;34m(\u001b[0m\u001b[0mtasks\u001b[0m\u001b[0;34m)\u001b[0m\u001b[0;34m\u001b[0m\u001b[0;34m\u001b[0m\u001b[0m\n\u001b[0m\u001b[1;32m    862\u001b[0m                 \u001b[0;32mreturn\u001b[0m \u001b[0;32mTrue\u001b[0m\u001b[0;34m\u001b[0m\u001b[0;34m\u001b[0m\u001b[0m\n\u001b[1;32m    863\u001b[0m \u001b[0;34m\u001b[0m\u001b[0m\n",
            "\u001b[0;32m/usr/local/lib/python3.7/dist-packages/joblib/parallel.py\u001b[0m in \u001b[0;36m_dispatch\u001b[0;34m(self, batch)\u001b[0m\n\u001b[1;32m    777\u001b[0m         \u001b[0;32mwith\u001b[0m \u001b[0mself\u001b[0m\u001b[0;34m.\u001b[0m\u001b[0m_lock\u001b[0m\u001b[0;34m:\u001b[0m\u001b[0;34m\u001b[0m\u001b[0;34m\u001b[0m\u001b[0m\n\u001b[1;32m    778\u001b[0m             \u001b[0mjob_idx\u001b[0m \u001b[0;34m=\u001b[0m \u001b[0mlen\u001b[0m\u001b[0;34m(\u001b[0m\u001b[0mself\u001b[0m\u001b[0;34m.\u001b[0m\u001b[0m_jobs\u001b[0m\u001b[0;34m)\u001b[0m\u001b[0;34m\u001b[0m\u001b[0;34m\u001b[0m\u001b[0m\n\u001b[0;32m--> 779\u001b[0;31m             \u001b[0mjob\u001b[0m \u001b[0;34m=\u001b[0m \u001b[0mself\u001b[0m\u001b[0;34m.\u001b[0m\u001b[0m_backend\u001b[0m\u001b[0;34m.\u001b[0m\u001b[0mapply_async\u001b[0m\u001b[0;34m(\u001b[0m\u001b[0mbatch\u001b[0m\u001b[0;34m,\u001b[0m \u001b[0mcallback\u001b[0m\u001b[0;34m=\u001b[0m\u001b[0mcb\u001b[0m\u001b[0;34m)\u001b[0m\u001b[0;34m\u001b[0m\u001b[0;34m\u001b[0m\u001b[0m\n\u001b[0m\u001b[1;32m    780\u001b[0m             \u001b[0;31m# A job can complete so quickly than its callback is\u001b[0m\u001b[0;34m\u001b[0m\u001b[0;34m\u001b[0m\u001b[0;34m\u001b[0m\u001b[0m\n\u001b[1;32m    781\u001b[0m             \u001b[0;31m# called before we get here, causing self._jobs to\u001b[0m\u001b[0;34m\u001b[0m\u001b[0;34m\u001b[0m\u001b[0;34m\u001b[0m\u001b[0m\n",
            "\u001b[0;32m/usr/local/lib/python3.7/dist-packages/joblib/_parallel_backends.py\u001b[0m in \u001b[0;36mapply_async\u001b[0;34m(self, func, callback)\u001b[0m\n\u001b[1;32m    206\u001b[0m     \u001b[0;32mdef\u001b[0m \u001b[0mapply_async\u001b[0m\u001b[0;34m(\u001b[0m\u001b[0mself\u001b[0m\u001b[0;34m,\u001b[0m \u001b[0mfunc\u001b[0m\u001b[0;34m,\u001b[0m \u001b[0mcallback\u001b[0m\u001b[0;34m=\u001b[0m\u001b[0;32mNone\u001b[0m\u001b[0;34m)\u001b[0m\u001b[0;34m:\u001b[0m\u001b[0;34m\u001b[0m\u001b[0;34m\u001b[0m\u001b[0m\n\u001b[1;32m    207\u001b[0m         \u001b[0;34m\"\"\"Schedule a func to be run\"\"\"\u001b[0m\u001b[0;34m\u001b[0m\u001b[0;34m\u001b[0m\u001b[0m\n\u001b[0;32m--> 208\u001b[0;31m         \u001b[0mresult\u001b[0m \u001b[0;34m=\u001b[0m \u001b[0mImmediateResult\u001b[0m\u001b[0;34m(\u001b[0m\u001b[0mfunc\u001b[0m\u001b[0;34m)\u001b[0m\u001b[0;34m\u001b[0m\u001b[0;34m\u001b[0m\u001b[0m\n\u001b[0m\u001b[1;32m    209\u001b[0m         \u001b[0;32mif\u001b[0m \u001b[0mcallback\u001b[0m\u001b[0;34m:\u001b[0m\u001b[0;34m\u001b[0m\u001b[0;34m\u001b[0m\u001b[0m\n\u001b[1;32m    210\u001b[0m             \u001b[0mcallback\u001b[0m\u001b[0;34m(\u001b[0m\u001b[0mresult\u001b[0m\u001b[0;34m)\u001b[0m\u001b[0;34m\u001b[0m\u001b[0;34m\u001b[0m\u001b[0m\n",
            "\u001b[0;32m/usr/local/lib/python3.7/dist-packages/joblib/_parallel_backends.py\u001b[0m in \u001b[0;36m__init__\u001b[0;34m(self, batch)\u001b[0m\n\u001b[1;32m    570\u001b[0m         \u001b[0;31m# Don't delay the application, to avoid keeping the input\u001b[0m\u001b[0;34m\u001b[0m\u001b[0;34m\u001b[0m\u001b[0;34m\u001b[0m\u001b[0m\n\u001b[1;32m    571\u001b[0m         \u001b[0;31m# arguments in memory\u001b[0m\u001b[0;34m\u001b[0m\u001b[0;34m\u001b[0m\u001b[0;34m\u001b[0m\u001b[0m\n\u001b[0;32m--> 572\u001b[0;31m         \u001b[0mself\u001b[0m\u001b[0;34m.\u001b[0m\u001b[0mresults\u001b[0m \u001b[0;34m=\u001b[0m \u001b[0mbatch\u001b[0m\u001b[0;34m(\u001b[0m\u001b[0;34m)\u001b[0m\u001b[0;34m\u001b[0m\u001b[0;34m\u001b[0m\u001b[0m\n\u001b[0m\u001b[1;32m    573\u001b[0m \u001b[0;34m\u001b[0m\u001b[0m\n\u001b[1;32m    574\u001b[0m     \u001b[0;32mdef\u001b[0m \u001b[0mget\u001b[0m\u001b[0;34m(\u001b[0m\u001b[0mself\u001b[0m\u001b[0;34m)\u001b[0m\u001b[0;34m:\u001b[0m\u001b[0;34m\u001b[0m\u001b[0;34m\u001b[0m\u001b[0m\n",
            "\u001b[0;32m/usr/local/lib/python3.7/dist-packages/joblib/parallel.py\u001b[0m in \u001b[0;36m__call__\u001b[0;34m(self)\u001b[0m\n\u001b[1;32m    261\u001b[0m         \u001b[0;32mwith\u001b[0m \u001b[0mparallel_backend\u001b[0m\u001b[0;34m(\u001b[0m\u001b[0mself\u001b[0m\u001b[0;34m.\u001b[0m\u001b[0m_backend\u001b[0m\u001b[0;34m,\u001b[0m \u001b[0mn_jobs\u001b[0m\u001b[0;34m=\u001b[0m\u001b[0mself\u001b[0m\u001b[0;34m.\u001b[0m\u001b[0m_n_jobs\u001b[0m\u001b[0;34m)\u001b[0m\u001b[0;34m:\u001b[0m\u001b[0;34m\u001b[0m\u001b[0;34m\u001b[0m\u001b[0m\n\u001b[1;32m    262\u001b[0m             return [func(*args, **kwargs)\n\u001b[0;32m--> 263\u001b[0;31m                     for func, args, kwargs in self.items]\n\u001b[0m\u001b[1;32m    264\u001b[0m \u001b[0;34m\u001b[0m\u001b[0m\n\u001b[1;32m    265\u001b[0m     \u001b[0;32mdef\u001b[0m \u001b[0m__reduce__\u001b[0m\u001b[0;34m(\u001b[0m\u001b[0mself\u001b[0m\u001b[0;34m)\u001b[0m\u001b[0;34m:\u001b[0m\u001b[0;34m\u001b[0m\u001b[0;34m\u001b[0m\u001b[0m\n",
            "\u001b[0;32m/usr/local/lib/python3.7/dist-packages/joblib/parallel.py\u001b[0m in \u001b[0;36m<listcomp>\u001b[0;34m(.0)\u001b[0m\n\u001b[1;32m    261\u001b[0m         \u001b[0;32mwith\u001b[0m \u001b[0mparallel_backend\u001b[0m\u001b[0;34m(\u001b[0m\u001b[0mself\u001b[0m\u001b[0;34m.\u001b[0m\u001b[0m_backend\u001b[0m\u001b[0;34m,\u001b[0m \u001b[0mn_jobs\u001b[0m\u001b[0;34m=\u001b[0m\u001b[0mself\u001b[0m\u001b[0;34m.\u001b[0m\u001b[0m_n_jobs\u001b[0m\u001b[0;34m)\u001b[0m\u001b[0;34m:\u001b[0m\u001b[0;34m\u001b[0m\u001b[0;34m\u001b[0m\u001b[0m\n\u001b[1;32m    262\u001b[0m             return [func(*args, **kwargs)\n\u001b[0;32m--> 263\u001b[0;31m                     for func, args, kwargs in self.items]\n\u001b[0m\u001b[1;32m    264\u001b[0m \u001b[0;34m\u001b[0m\u001b[0m\n\u001b[1;32m    265\u001b[0m     \u001b[0;32mdef\u001b[0m \u001b[0m__reduce__\u001b[0m\u001b[0;34m(\u001b[0m\u001b[0mself\u001b[0m\u001b[0;34m)\u001b[0m\u001b[0;34m:\u001b[0m\u001b[0;34m\u001b[0m\u001b[0;34m\u001b[0m\u001b[0m\n",
            "\u001b[0;32m/usr/local/lib/python3.7/dist-packages/imblearn/ensemble/_forest.py\u001b[0m in \u001b[0;36m_local_parallel_build_trees\u001b[0;34m(sampler, tree, forest, X, y, sample_weight, tree_idx, n_trees, verbose, class_weight, n_samples_bootstrap)\u001b[0m\n\u001b[1;32m     54\u001b[0m ):\n\u001b[1;32m     55\u001b[0m     \u001b[0;31m# resample before to fit the tree\u001b[0m\u001b[0;34m\u001b[0m\u001b[0;34m\u001b[0m\u001b[0;34m\u001b[0m\u001b[0m\n\u001b[0;32m---> 56\u001b[0;31m     \u001b[0mX_resampled\u001b[0m\u001b[0;34m,\u001b[0m \u001b[0my_resampled\u001b[0m \u001b[0;34m=\u001b[0m \u001b[0msampler\u001b[0m\u001b[0;34m.\u001b[0m\u001b[0mfit_resample\u001b[0m\u001b[0;34m(\u001b[0m\u001b[0mX\u001b[0m\u001b[0;34m,\u001b[0m \u001b[0my\u001b[0m\u001b[0;34m)\u001b[0m\u001b[0;34m\u001b[0m\u001b[0;34m\u001b[0m\u001b[0m\n\u001b[0m\u001b[1;32m     57\u001b[0m     \u001b[0;32mif\u001b[0m \u001b[0msample_weight\u001b[0m \u001b[0;32mis\u001b[0m \u001b[0;32mnot\u001b[0m \u001b[0;32mNone\u001b[0m\u001b[0;34m:\u001b[0m\u001b[0;34m\u001b[0m\u001b[0;34m\u001b[0m\u001b[0m\n\u001b[1;32m     58\u001b[0m         \u001b[0msample_weight\u001b[0m \u001b[0;34m=\u001b[0m \u001b[0m_safe_indexing\u001b[0m\u001b[0;34m(\u001b[0m\u001b[0msample_weight\u001b[0m\u001b[0;34m,\u001b[0m \u001b[0msampler\u001b[0m\u001b[0;34m.\u001b[0m\u001b[0msample_indices_\u001b[0m\u001b[0;34m)\u001b[0m\u001b[0;34m\u001b[0m\u001b[0;34m\u001b[0m\u001b[0m\n",
            "\u001b[0;32m/usr/local/lib/python3.7/dist-packages/imblearn/base.py\u001b[0m in \u001b[0;36mfit_resample\u001b[0;34m(self, X, y)\u001b[0m\n\u001b[1;32m     75\u001b[0m         \u001b[0mcheck_classification_targets\u001b[0m\u001b[0;34m(\u001b[0m\u001b[0my\u001b[0m\u001b[0;34m)\u001b[0m\u001b[0;34m\u001b[0m\u001b[0;34m\u001b[0m\u001b[0m\n\u001b[1;32m     76\u001b[0m         \u001b[0marrays_transformer\u001b[0m \u001b[0;34m=\u001b[0m \u001b[0mArraysTransformer\u001b[0m\u001b[0;34m(\u001b[0m\u001b[0mX\u001b[0m\u001b[0;34m,\u001b[0m \u001b[0my\u001b[0m\u001b[0;34m)\u001b[0m\u001b[0;34m\u001b[0m\u001b[0;34m\u001b[0m\u001b[0m\n\u001b[0;32m---> 77\u001b[0;31m         \u001b[0mX\u001b[0m\u001b[0;34m,\u001b[0m \u001b[0my\u001b[0m\u001b[0;34m,\u001b[0m \u001b[0mbinarize_y\u001b[0m \u001b[0;34m=\u001b[0m \u001b[0mself\u001b[0m\u001b[0;34m.\u001b[0m\u001b[0m_check_X_y\u001b[0m\u001b[0;34m(\u001b[0m\u001b[0mX\u001b[0m\u001b[0;34m,\u001b[0m \u001b[0my\u001b[0m\u001b[0;34m)\u001b[0m\u001b[0;34m\u001b[0m\u001b[0;34m\u001b[0m\u001b[0m\n\u001b[0m\u001b[1;32m     78\u001b[0m \u001b[0;34m\u001b[0m\u001b[0m\n\u001b[1;32m     79\u001b[0m         self.sampling_strategy_ = check_sampling_strategy(\n",
            "\u001b[0;32m/usr/local/lib/python3.7/dist-packages/imblearn/under_sampling/_prototype_selection/_random_under_sampler.py\u001b[0m in \u001b[0;36m_check_X_y\u001b[0;34m(self, X, y)\u001b[0m\n\u001b[1;32m     81\u001b[0m \u001b[0;34m\u001b[0m\u001b[0m\n\u001b[1;32m     82\u001b[0m     \u001b[0;32mdef\u001b[0m \u001b[0m_check_X_y\u001b[0m\u001b[0;34m(\u001b[0m\u001b[0mself\u001b[0m\u001b[0;34m,\u001b[0m \u001b[0mX\u001b[0m\u001b[0;34m,\u001b[0m \u001b[0my\u001b[0m\u001b[0;34m)\u001b[0m\u001b[0;34m:\u001b[0m\u001b[0;34m\u001b[0m\u001b[0;34m\u001b[0m\u001b[0m\n\u001b[0;32m---> 83\u001b[0;31m         \u001b[0my\u001b[0m\u001b[0;34m,\u001b[0m \u001b[0mbinarize_y\u001b[0m \u001b[0;34m=\u001b[0m \u001b[0mcheck_target_type\u001b[0m\u001b[0;34m(\u001b[0m\u001b[0my\u001b[0m\u001b[0;34m,\u001b[0m \u001b[0mindicate_one_vs_all\u001b[0m\u001b[0;34m=\u001b[0m\u001b[0;32mTrue\u001b[0m\u001b[0;34m)\u001b[0m\u001b[0;34m\u001b[0m\u001b[0;34m\u001b[0m\u001b[0m\n\u001b[0m\u001b[1;32m     84\u001b[0m         X, y = self._validate_data(\n\u001b[1;32m     85\u001b[0m             \u001b[0mX\u001b[0m\u001b[0;34m,\u001b[0m\u001b[0;34m\u001b[0m\u001b[0;34m\u001b[0m\u001b[0m\n",
            "\u001b[0;32m/usr/local/lib/python3.7/dist-packages/imblearn/utils/_validation.py\u001b[0m in \u001b[0;36mcheck_target_type\u001b[0;34m(y, indicate_one_vs_all)\u001b[0m\n\u001b[1;32m    128\u001b[0m         \u001b[0mOnly\u001b[0m \u001b[0mreturned\u001b[0m \u001b[0;32mif\u001b[0m\u001b[0;31m \u001b[0m\u001b[0;31m`\u001b[0m\u001b[0;31m`\u001b[0m\u001b[0mindicate_multilabel\u001b[0m\u001b[0;34m=\u001b[0m\u001b[0;32mTrue\u001b[0m\u001b[0;31m`\u001b[0m\u001b[0;31m`\u001b[0m\u001b[0;34m.\u001b[0m\u001b[0;34m\u001b[0m\u001b[0;34m\u001b[0m\u001b[0m\n\u001b[1;32m    129\u001b[0m     \"\"\"\n\u001b[0;32m--> 130\u001b[0;31m     \u001b[0mtype_y\u001b[0m \u001b[0;34m=\u001b[0m \u001b[0mtype_of_target\u001b[0m\u001b[0;34m(\u001b[0m\u001b[0my\u001b[0m\u001b[0;34m)\u001b[0m\u001b[0;34m\u001b[0m\u001b[0;34m\u001b[0m\u001b[0m\n\u001b[0m\u001b[1;32m    131\u001b[0m     \u001b[0;32mif\u001b[0m \u001b[0mtype_y\u001b[0m \u001b[0;34m==\u001b[0m \u001b[0;34m\"multilabel-indicator\"\u001b[0m\u001b[0;34m:\u001b[0m\u001b[0;34m\u001b[0m\u001b[0;34m\u001b[0m\u001b[0m\n\u001b[1;32m    132\u001b[0m         \u001b[0;32mif\u001b[0m \u001b[0mnp\u001b[0m\u001b[0;34m.\u001b[0m\u001b[0many\u001b[0m\u001b[0;34m(\u001b[0m\u001b[0my\u001b[0m\u001b[0;34m.\u001b[0m\u001b[0msum\u001b[0m\u001b[0;34m(\u001b[0m\u001b[0maxis\u001b[0m\u001b[0;34m=\u001b[0m\u001b[0;36m1\u001b[0m\u001b[0;34m)\u001b[0m \u001b[0;34m>\u001b[0m \u001b[0;36m1\u001b[0m\u001b[0;34m)\u001b[0m\u001b[0;34m:\u001b[0m\u001b[0;34m\u001b[0m\u001b[0;34m\u001b[0m\u001b[0m\n",
            "\u001b[0;32m/usr/local/lib/python3.7/dist-packages/sklearn/utils/multiclass.py\u001b[0m in \u001b[0;36mtype_of_target\u001b[0;34m(y)\u001b[0m\n\u001b[1;32m    326\u001b[0m         \u001b[0;32mreturn\u001b[0m \u001b[0;34m\"continuous\"\u001b[0m \u001b[0;34m+\u001b[0m \u001b[0msuffix\u001b[0m\u001b[0;34m\u001b[0m\u001b[0;34m\u001b[0m\u001b[0m\n\u001b[1;32m    327\u001b[0m \u001b[0;34m\u001b[0m\u001b[0m\n\u001b[0;32m--> 328\u001b[0;31m     \u001b[0;32mif\u001b[0m \u001b[0;34m(\u001b[0m\u001b[0mlen\u001b[0m\u001b[0;34m(\u001b[0m\u001b[0mnp\u001b[0m\u001b[0;34m.\u001b[0m\u001b[0munique\u001b[0m\u001b[0;34m(\u001b[0m\u001b[0my\u001b[0m\u001b[0;34m)\u001b[0m\u001b[0;34m)\u001b[0m \u001b[0;34m>\u001b[0m \u001b[0;36m2\u001b[0m\u001b[0;34m)\u001b[0m \u001b[0;32mor\u001b[0m \u001b[0;34m(\u001b[0m\u001b[0my\u001b[0m\u001b[0;34m.\u001b[0m\u001b[0mndim\u001b[0m \u001b[0;34m>=\u001b[0m \u001b[0;36m2\u001b[0m \u001b[0;32mand\u001b[0m \u001b[0mlen\u001b[0m\u001b[0;34m(\u001b[0m\u001b[0my\u001b[0m\u001b[0;34m[\u001b[0m\u001b[0;36m0\u001b[0m\u001b[0;34m]\u001b[0m\u001b[0;34m)\u001b[0m \u001b[0;34m>\u001b[0m \u001b[0;36m1\u001b[0m\u001b[0;34m)\u001b[0m\u001b[0;34m:\u001b[0m\u001b[0;34m\u001b[0m\u001b[0;34m\u001b[0m\u001b[0m\n\u001b[0m\u001b[1;32m    329\u001b[0m         \u001b[0;32mreturn\u001b[0m \u001b[0;34m\"multiclass\"\u001b[0m \u001b[0;34m+\u001b[0m \u001b[0msuffix\u001b[0m  \u001b[0;31m# [1, 2, 3] or [[1., 2., 3]] or [[1, 2]]\u001b[0m\u001b[0;34m\u001b[0m\u001b[0;34m\u001b[0m\u001b[0m\n\u001b[1;32m    330\u001b[0m     \u001b[0;32melse\u001b[0m\u001b[0;34m:\u001b[0m\u001b[0;34m\u001b[0m\u001b[0;34m\u001b[0m\u001b[0m\n",
            "\u001b[0;32m<__array_function__ internals>\u001b[0m in \u001b[0;36munique\u001b[0;34m(*args, **kwargs)\u001b[0m\n",
            "\u001b[0;32m/usr/local/lib/python3.7/dist-packages/numpy/lib/arraysetops.py\u001b[0m in \u001b[0;36munique\u001b[0;34m(ar, return_index, return_inverse, return_counts, axis)\u001b[0m\n\u001b[1;32m    259\u001b[0m     \u001b[0mar\u001b[0m \u001b[0;34m=\u001b[0m \u001b[0mnp\u001b[0m\u001b[0;34m.\u001b[0m\u001b[0masanyarray\u001b[0m\u001b[0;34m(\u001b[0m\u001b[0mar\u001b[0m\u001b[0;34m)\u001b[0m\u001b[0;34m\u001b[0m\u001b[0;34m\u001b[0m\u001b[0m\n\u001b[1;32m    260\u001b[0m     \u001b[0;32mif\u001b[0m \u001b[0maxis\u001b[0m \u001b[0;32mis\u001b[0m \u001b[0;32mNone\u001b[0m\u001b[0;34m:\u001b[0m\u001b[0;34m\u001b[0m\u001b[0;34m\u001b[0m\u001b[0m\n\u001b[0;32m--> 261\u001b[0;31m         \u001b[0mret\u001b[0m \u001b[0;34m=\u001b[0m \u001b[0m_unique1d\u001b[0m\u001b[0;34m(\u001b[0m\u001b[0mar\u001b[0m\u001b[0;34m,\u001b[0m \u001b[0mreturn_index\u001b[0m\u001b[0;34m,\u001b[0m \u001b[0mreturn_inverse\u001b[0m\u001b[0;34m,\u001b[0m \u001b[0mreturn_counts\u001b[0m\u001b[0;34m)\u001b[0m\u001b[0;34m\u001b[0m\u001b[0;34m\u001b[0m\u001b[0m\n\u001b[0m\u001b[1;32m    262\u001b[0m         \u001b[0;32mreturn\u001b[0m \u001b[0m_unpack_tuple\u001b[0m\u001b[0;34m(\u001b[0m\u001b[0mret\u001b[0m\u001b[0;34m)\u001b[0m\u001b[0;34m\u001b[0m\u001b[0;34m\u001b[0m\u001b[0m\n\u001b[1;32m    263\u001b[0m \u001b[0;34m\u001b[0m\u001b[0m\n",
            "\u001b[0;32m/usr/local/lib/python3.7/dist-packages/numpy/lib/arraysetops.py\u001b[0m in \u001b[0;36m_unique1d\u001b[0;34m(ar, return_index, return_inverse, return_counts)\u001b[0m\n\u001b[1;32m    320\u001b[0m         \u001b[0maux\u001b[0m \u001b[0;34m=\u001b[0m \u001b[0mar\u001b[0m\u001b[0;34m[\u001b[0m\u001b[0mperm\u001b[0m\u001b[0;34m]\u001b[0m\u001b[0;34m\u001b[0m\u001b[0;34m\u001b[0m\u001b[0m\n\u001b[1;32m    321\u001b[0m     \u001b[0;32melse\u001b[0m\u001b[0;34m:\u001b[0m\u001b[0;34m\u001b[0m\u001b[0;34m\u001b[0m\u001b[0m\n\u001b[0;32m--> 322\u001b[0;31m         \u001b[0mar\u001b[0m\u001b[0;34m.\u001b[0m\u001b[0msort\u001b[0m\u001b[0;34m(\u001b[0m\u001b[0;34m)\u001b[0m\u001b[0;34m\u001b[0m\u001b[0;34m\u001b[0m\u001b[0m\n\u001b[0m\u001b[1;32m    323\u001b[0m         \u001b[0maux\u001b[0m \u001b[0;34m=\u001b[0m \u001b[0mar\u001b[0m\u001b[0;34m\u001b[0m\u001b[0;34m\u001b[0m\u001b[0m\n\u001b[1;32m    324\u001b[0m     \u001b[0mmask\u001b[0m \u001b[0;34m=\u001b[0m \u001b[0mnp\u001b[0m\u001b[0;34m.\u001b[0m\u001b[0mempty\u001b[0m\u001b[0;34m(\u001b[0m\u001b[0maux\u001b[0m\u001b[0;34m.\u001b[0m\u001b[0mshape\u001b[0m\u001b[0;34m,\u001b[0m \u001b[0mdtype\u001b[0m\u001b[0;34m=\u001b[0m\u001b[0mnp\u001b[0m\u001b[0;34m.\u001b[0m\u001b[0mbool_\u001b[0m\u001b[0;34m)\u001b[0m\u001b[0;34m\u001b[0m\u001b[0;34m\u001b[0m\u001b[0m\n",
            "\u001b[0;31mKeyboardInterrupt\u001b[0m: "
          ]
        },
        {
          "output_type": "stream",
          "name": "stdout",
          "text": [
            "time: 1h 21min 19s (started: 2021-12-22 02:57:32 +00:00)\n"
          ]
        }
      ]
    },
    {
      "cell_type": "code",
      "source": [
        "\n",
        "clf = BalancedRandomForestClassifier(max_samples=20000, random_state=0, max_depth=7, n_estimators=80)\n",
        "clf.fit(dataset.X(), dataset.Y())\n",
        "dataset.predict_clf(clf)"
      ],
      "metadata": {
        "colab": {
          "base_uri": "https://localhost:8080/"
        },
        "id": "NblD2DV9XEEO",
        "outputId": "c8c3e748-8838-4058-b35b-91c796021911"
      },
      "execution_count": null,
      "outputs": [
        {
          "output_type": "stream",
          "name": "stdout",
          "text": [
            "time: 2min 48s (started: 2021-12-22 04:19:12 +00:00)\n"
          ]
        }
      ]
    },
    {
      "cell_type": "code",
      "source": [
        "clf = GradientBoostingClassifier(random_state=0, n_estimators=100, learning_rate=0.5, max_depth=5)\n",
        "clf.fit(dataset.X(), dataset.Y())\n",
        "dataset.predict_clf(clf)"
      ],
      "metadata": {
        "colab": {
          "base_uri": "https://localhost:8080/"
        },
        "id": "IBNRf7YvVfrT",
        "outputId": "650c3e06-0f0c-4439-9694-d463153739dd"
      },
      "execution_count": null,
      "outputs": [
        {
          "output_type": "stream",
          "name": "stdout",
          "text": [
            "time: 3min 51s (started: 2021-12-17 01:56:47 +00:00)\n"
          ]
        }
      ]
    },
    {
      "cell_type": "code",
      "source": [
        "clf = AdaBoostClassifier(n_estimators=500, learning_rate=0.25, random_state=0)\n",
        "score = cross_val_score(clf, dataset.X(), dataset.Y(), cv=3, verbose=10).mean()\n",
        "print(score)"
      ],
      "metadata": {
        "colab": {
          "base_uri": "https://localhost:8080/",
          "height": 433
        },
        "id": "Gtnb7qQssQzH",
        "outputId": "a8827d91-447d-4412-e040-f024f8310c92"
      },
      "execution_count": null,
      "outputs": [
        {
          "output_type": "stream",
          "name": "stderr",
          "text": [
            "[Parallel(n_jobs=1)]: Using backend SequentialBackend with 1 concurrent workers.\n"
          ]
        },
        {
          "output_type": "stream",
          "name": "stdout",
          "text": [
            "[CV] START .....................................................................\n",
            "[CV] END ................................ score: (test=0.543) total time= 3.9min\n",
            "[CV] START .....................................................................\n"
          ]
        },
        {
          "output_type": "stream",
          "name": "stderr",
          "text": [
            "[Parallel(n_jobs=1)]: Done   1 out of   1 | elapsed:  3.9min remaining:    0.0s\n"
          ]
        },
        {
          "output_type": "error",
          "ename": "KeyboardInterrupt",
          "evalue": "ignored",
          "traceback": [
            "\u001b[0;31m---------------------------------------------------------------------------\u001b[0m",
            "\u001b[0;31mKeyboardInterrupt\u001b[0m                         Traceback (most recent call last)",
            "\u001b[0;32m<ipython-input-62-ffac027a29bb>\u001b[0m in \u001b[0;36m<module>\u001b[0;34m()\u001b[0m\n\u001b[1;32m      1\u001b[0m \u001b[0mclf\u001b[0m \u001b[0;34m=\u001b[0m \u001b[0mAdaBoostClassifier\u001b[0m\u001b[0;34m(\u001b[0m\u001b[0mn_estimators\u001b[0m\u001b[0;34m=\u001b[0m\u001b[0;36m500\u001b[0m\u001b[0;34m,\u001b[0m \u001b[0mlearning_rate\u001b[0m\u001b[0;34m=\u001b[0m\u001b[0;36m0.25\u001b[0m\u001b[0;34m,\u001b[0m \u001b[0mrandom_state\u001b[0m\u001b[0;34m=\u001b[0m\u001b[0;36m0\u001b[0m\u001b[0;34m)\u001b[0m\u001b[0;34m\u001b[0m\u001b[0;34m\u001b[0m\u001b[0m\n\u001b[0;32m----> 2\u001b[0;31m \u001b[0mscore\u001b[0m \u001b[0;34m=\u001b[0m \u001b[0mcross_val_score\u001b[0m\u001b[0;34m(\u001b[0m\u001b[0mclf\u001b[0m\u001b[0;34m,\u001b[0m \u001b[0mdataset\u001b[0m\u001b[0;34m.\u001b[0m\u001b[0mX\u001b[0m\u001b[0;34m(\u001b[0m\u001b[0;34m)\u001b[0m\u001b[0;34m,\u001b[0m \u001b[0mdataset\u001b[0m\u001b[0;34m.\u001b[0m\u001b[0mY\u001b[0m\u001b[0;34m(\u001b[0m\u001b[0;34m)\u001b[0m\u001b[0;34m,\u001b[0m \u001b[0mcv\u001b[0m\u001b[0;34m=\u001b[0m\u001b[0;36m3\u001b[0m\u001b[0;34m,\u001b[0m \u001b[0mverbose\u001b[0m\u001b[0;34m=\u001b[0m\u001b[0;36m10\u001b[0m\u001b[0;34m)\u001b[0m\u001b[0;34m.\u001b[0m\u001b[0mmean\u001b[0m\u001b[0;34m(\u001b[0m\u001b[0;34m)\u001b[0m\u001b[0;34m\u001b[0m\u001b[0;34m\u001b[0m\u001b[0m\n\u001b[0m\u001b[1;32m      3\u001b[0m \u001b[0mprint\u001b[0m\u001b[0;34m(\u001b[0m\u001b[0mscore\u001b[0m\u001b[0;34m)\u001b[0m\u001b[0;34m\u001b[0m\u001b[0;34m\u001b[0m\u001b[0m\n",
            "\u001b[0;32m/usr/local/lib/python3.7/dist-packages/sklearn/model_selection/_validation.py\u001b[0m in \u001b[0;36mcross_val_score\u001b[0;34m(estimator, X, y, groups, scoring, cv, n_jobs, verbose, fit_params, pre_dispatch, error_score)\u001b[0m\n\u001b[1;32m    519\u001b[0m         \u001b[0mfit_params\u001b[0m\u001b[0;34m=\u001b[0m\u001b[0mfit_params\u001b[0m\u001b[0;34m,\u001b[0m\u001b[0;34m\u001b[0m\u001b[0;34m\u001b[0m\u001b[0m\n\u001b[1;32m    520\u001b[0m         \u001b[0mpre_dispatch\u001b[0m\u001b[0;34m=\u001b[0m\u001b[0mpre_dispatch\u001b[0m\u001b[0;34m,\u001b[0m\u001b[0;34m\u001b[0m\u001b[0;34m\u001b[0m\u001b[0m\n\u001b[0;32m--> 521\u001b[0;31m         \u001b[0merror_score\u001b[0m\u001b[0;34m=\u001b[0m\u001b[0merror_score\u001b[0m\u001b[0;34m,\u001b[0m\u001b[0;34m\u001b[0m\u001b[0;34m\u001b[0m\u001b[0m\n\u001b[0m\u001b[1;32m    522\u001b[0m     )\n\u001b[1;32m    523\u001b[0m     \u001b[0;32mreturn\u001b[0m \u001b[0mcv_results\u001b[0m\u001b[0;34m[\u001b[0m\u001b[0;34m\"test_score\"\u001b[0m\u001b[0;34m]\u001b[0m\u001b[0;34m\u001b[0m\u001b[0;34m\u001b[0m\u001b[0m\n",
            "\u001b[0;32m/usr/local/lib/python3.7/dist-packages/sklearn/model_selection/_validation.py\u001b[0m in \u001b[0;36mcross_validate\u001b[0;34m(estimator, X, y, groups, scoring, cv, n_jobs, verbose, fit_params, pre_dispatch, return_train_score, return_estimator, error_score)\u001b[0m\n\u001b[1;32m    281\u001b[0m             \u001b[0merror_score\u001b[0m\u001b[0;34m=\u001b[0m\u001b[0merror_score\u001b[0m\u001b[0;34m,\u001b[0m\u001b[0;34m\u001b[0m\u001b[0;34m\u001b[0m\u001b[0m\n\u001b[1;32m    282\u001b[0m         )\n\u001b[0;32m--> 283\u001b[0;31m         \u001b[0;32mfor\u001b[0m \u001b[0mtrain\u001b[0m\u001b[0;34m,\u001b[0m \u001b[0mtest\u001b[0m \u001b[0;32min\u001b[0m \u001b[0mcv\u001b[0m\u001b[0;34m.\u001b[0m\u001b[0msplit\u001b[0m\u001b[0;34m(\u001b[0m\u001b[0mX\u001b[0m\u001b[0;34m,\u001b[0m \u001b[0my\u001b[0m\u001b[0;34m,\u001b[0m \u001b[0mgroups\u001b[0m\u001b[0;34m)\u001b[0m\u001b[0;34m\u001b[0m\u001b[0;34m\u001b[0m\u001b[0m\n\u001b[0m\u001b[1;32m    284\u001b[0m     )\n\u001b[1;32m    285\u001b[0m \u001b[0;34m\u001b[0m\u001b[0m\n",
            "\u001b[0;32m/usr/local/lib/python3.7/dist-packages/joblib/parallel.py\u001b[0m in \u001b[0;36m__call__\u001b[0;34m(self, iterable)\u001b[0m\n\u001b[1;32m   1044\u001b[0m                 \u001b[0mself\u001b[0m\u001b[0;34m.\u001b[0m\u001b[0m_iterating\u001b[0m \u001b[0;34m=\u001b[0m \u001b[0mself\u001b[0m\u001b[0;34m.\u001b[0m\u001b[0m_original_iterator\u001b[0m \u001b[0;32mis\u001b[0m \u001b[0;32mnot\u001b[0m \u001b[0;32mNone\u001b[0m\u001b[0;34m\u001b[0m\u001b[0;34m\u001b[0m\u001b[0m\n\u001b[1;32m   1045\u001b[0m \u001b[0;34m\u001b[0m\u001b[0m\n\u001b[0;32m-> 1046\u001b[0;31m             \u001b[0;32mwhile\u001b[0m \u001b[0mself\u001b[0m\u001b[0;34m.\u001b[0m\u001b[0mdispatch_one_batch\u001b[0m\u001b[0;34m(\u001b[0m\u001b[0miterator\u001b[0m\u001b[0;34m)\u001b[0m\u001b[0;34m:\u001b[0m\u001b[0;34m\u001b[0m\u001b[0;34m\u001b[0m\u001b[0m\n\u001b[0m\u001b[1;32m   1047\u001b[0m                 \u001b[0;32mpass\u001b[0m\u001b[0;34m\u001b[0m\u001b[0;34m\u001b[0m\u001b[0m\n\u001b[1;32m   1048\u001b[0m \u001b[0;34m\u001b[0m\u001b[0m\n",
            "\u001b[0;32m/usr/local/lib/python3.7/dist-packages/joblib/parallel.py\u001b[0m in \u001b[0;36mdispatch_one_batch\u001b[0;34m(self, iterator)\u001b[0m\n\u001b[1;32m    859\u001b[0m                 \u001b[0;32mreturn\u001b[0m \u001b[0;32mFalse\u001b[0m\u001b[0;34m\u001b[0m\u001b[0;34m\u001b[0m\u001b[0m\n\u001b[1;32m    860\u001b[0m             \u001b[0;32melse\u001b[0m\u001b[0;34m:\u001b[0m\u001b[0;34m\u001b[0m\u001b[0;34m\u001b[0m\u001b[0m\n\u001b[0;32m--> 861\u001b[0;31m                 \u001b[0mself\u001b[0m\u001b[0;34m.\u001b[0m\u001b[0m_dispatch\u001b[0m\u001b[0;34m(\u001b[0m\u001b[0mtasks\u001b[0m\u001b[0;34m)\u001b[0m\u001b[0;34m\u001b[0m\u001b[0;34m\u001b[0m\u001b[0m\n\u001b[0m\u001b[1;32m    862\u001b[0m                 \u001b[0;32mreturn\u001b[0m \u001b[0;32mTrue\u001b[0m\u001b[0;34m\u001b[0m\u001b[0;34m\u001b[0m\u001b[0m\n\u001b[1;32m    863\u001b[0m \u001b[0;34m\u001b[0m\u001b[0m\n",
            "\u001b[0;32m/usr/local/lib/python3.7/dist-packages/joblib/parallel.py\u001b[0m in \u001b[0;36m_dispatch\u001b[0;34m(self, batch)\u001b[0m\n\u001b[1;32m    777\u001b[0m         \u001b[0;32mwith\u001b[0m \u001b[0mself\u001b[0m\u001b[0;34m.\u001b[0m\u001b[0m_lock\u001b[0m\u001b[0;34m:\u001b[0m\u001b[0;34m\u001b[0m\u001b[0;34m\u001b[0m\u001b[0m\n\u001b[1;32m    778\u001b[0m             \u001b[0mjob_idx\u001b[0m \u001b[0;34m=\u001b[0m \u001b[0mlen\u001b[0m\u001b[0;34m(\u001b[0m\u001b[0mself\u001b[0m\u001b[0;34m.\u001b[0m\u001b[0m_jobs\u001b[0m\u001b[0;34m)\u001b[0m\u001b[0;34m\u001b[0m\u001b[0;34m\u001b[0m\u001b[0m\n\u001b[0;32m--> 779\u001b[0;31m             \u001b[0mjob\u001b[0m \u001b[0;34m=\u001b[0m \u001b[0mself\u001b[0m\u001b[0;34m.\u001b[0m\u001b[0m_backend\u001b[0m\u001b[0;34m.\u001b[0m\u001b[0mapply_async\u001b[0m\u001b[0;34m(\u001b[0m\u001b[0mbatch\u001b[0m\u001b[0;34m,\u001b[0m \u001b[0mcallback\u001b[0m\u001b[0;34m=\u001b[0m\u001b[0mcb\u001b[0m\u001b[0;34m)\u001b[0m\u001b[0;34m\u001b[0m\u001b[0;34m\u001b[0m\u001b[0m\n\u001b[0m\u001b[1;32m    780\u001b[0m             \u001b[0;31m# A job can complete so quickly than its callback is\u001b[0m\u001b[0;34m\u001b[0m\u001b[0;34m\u001b[0m\u001b[0;34m\u001b[0m\u001b[0m\n\u001b[1;32m    781\u001b[0m             \u001b[0;31m# called before we get here, causing self._jobs to\u001b[0m\u001b[0;34m\u001b[0m\u001b[0;34m\u001b[0m\u001b[0;34m\u001b[0m\u001b[0m\n",
            "\u001b[0;32m/usr/local/lib/python3.7/dist-packages/joblib/_parallel_backends.py\u001b[0m in \u001b[0;36mapply_async\u001b[0;34m(self, func, callback)\u001b[0m\n\u001b[1;32m    206\u001b[0m     \u001b[0;32mdef\u001b[0m \u001b[0mapply_async\u001b[0m\u001b[0;34m(\u001b[0m\u001b[0mself\u001b[0m\u001b[0;34m,\u001b[0m \u001b[0mfunc\u001b[0m\u001b[0;34m,\u001b[0m \u001b[0mcallback\u001b[0m\u001b[0;34m=\u001b[0m\u001b[0;32mNone\u001b[0m\u001b[0;34m)\u001b[0m\u001b[0;34m:\u001b[0m\u001b[0;34m\u001b[0m\u001b[0;34m\u001b[0m\u001b[0m\n\u001b[1;32m    207\u001b[0m         \u001b[0;34m\"\"\"Schedule a func to be run\"\"\"\u001b[0m\u001b[0;34m\u001b[0m\u001b[0;34m\u001b[0m\u001b[0m\n\u001b[0;32m--> 208\u001b[0;31m         \u001b[0mresult\u001b[0m \u001b[0;34m=\u001b[0m \u001b[0mImmediateResult\u001b[0m\u001b[0;34m(\u001b[0m\u001b[0mfunc\u001b[0m\u001b[0;34m)\u001b[0m\u001b[0;34m\u001b[0m\u001b[0;34m\u001b[0m\u001b[0m\n\u001b[0m\u001b[1;32m    209\u001b[0m         \u001b[0;32mif\u001b[0m \u001b[0mcallback\u001b[0m\u001b[0;34m:\u001b[0m\u001b[0;34m\u001b[0m\u001b[0;34m\u001b[0m\u001b[0m\n\u001b[1;32m    210\u001b[0m             \u001b[0mcallback\u001b[0m\u001b[0;34m(\u001b[0m\u001b[0mresult\u001b[0m\u001b[0;34m)\u001b[0m\u001b[0;34m\u001b[0m\u001b[0;34m\u001b[0m\u001b[0m\n",
            "\u001b[0;32m/usr/local/lib/python3.7/dist-packages/joblib/_parallel_backends.py\u001b[0m in \u001b[0;36m__init__\u001b[0;34m(self, batch)\u001b[0m\n\u001b[1;32m    570\u001b[0m         \u001b[0;31m# Don't delay the application, to avoid keeping the input\u001b[0m\u001b[0;34m\u001b[0m\u001b[0;34m\u001b[0m\u001b[0;34m\u001b[0m\u001b[0m\n\u001b[1;32m    571\u001b[0m         \u001b[0;31m# arguments in memory\u001b[0m\u001b[0;34m\u001b[0m\u001b[0;34m\u001b[0m\u001b[0;34m\u001b[0m\u001b[0m\n\u001b[0;32m--> 572\u001b[0;31m         \u001b[0mself\u001b[0m\u001b[0;34m.\u001b[0m\u001b[0mresults\u001b[0m \u001b[0;34m=\u001b[0m \u001b[0mbatch\u001b[0m\u001b[0;34m(\u001b[0m\u001b[0;34m)\u001b[0m\u001b[0;34m\u001b[0m\u001b[0;34m\u001b[0m\u001b[0m\n\u001b[0m\u001b[1;32m    573\u001b[0m \u001b[0;34m\u001b[0m\u001b[0m\n\u001b[1;32m    574\u001b[0m     \u001b[0;32mdef\u001b[0m \u001b[0mget\u001b[0m\u001b[0;34m(\u001b[0m\u001b[0mself\u001b[0m\u001b[0;34m)\u001b[0m\u001b[0;34m:\u001b[0m\u001b[0;34m\u001b[0m\u001b[0;34m\u001b[0m\u001b[0m\n",
            "\u001b[0;32m/usr/local/lib/python3.7/dist-packages/joblib/parallel.py\u001b[0m in \u001b[0;36m__call__\u001b[0;34m(self)\u001b[0m\n\u001b[1;32m    261\u001b[0m         \u001b[0;32mwith\u001b[0m \u001b[0mparallel_backend\u001b[0m\u001b[0;34m(\u001b[0m\u001b[0mself\u001b[0m\u001b[0;34m.\u001b[0m\u001b[0m_backend\u001b[0m\u001b[0;34m,\u001b[0m \u001b[0mn_jobs\u001b[0m\u001b[0;34m=\u001b[0m\u001b[0mself\u001b[0m\u001b[0;34m.\u001b[0m\u001b[0m_n_jobs\u001b[0m\u001b[0;34m)\u001b[0m\u001b[0;34m:\u001b[0m\u001b[0;34m\u001b[0m\u001b[0;34m\u001b[0m\u001b[0m\n\u001b[1;32m    262\u001b[0m             return [func(*args, **kwargs)\n\u001b[0;32m--> 263\u001b[0;31m                     for func, args, kwargs in self.items]\n\u001b[0m\u001b[1;32m    264\u001b[0m \u001b[0;34m\u001b[0m\u001b[0m\n\u001b[1;32m    265\u001b[0m     \u001b[0;32mdef\u001b[0m \u001b[0m__reduce__\u001b[0m\u001b[0;34m(\u001b[0m\u001b[0mself\u001b[0m\u001b[0;34m)\u001b[0m\u001b[0;34m:\u001b[0m\u001b[0;34m\u001b[0m\u001b[0;34m\u001b[0m\u001b[0m\n",
            "\u001b[0;32m/usr/local/lib/python3.7/dist-packages/joblib/parallel.py\u001b[0m in \u001b[0;36m<listcomp>\u001b[0;34m(.0)\u001b[0m\n\u001b[1;32m    261\u001b[0m         \u001b[0;32mwith\u001b[0m \u001b[0mparallel_backend\u001b[0m\u001b[0;34m(\u001b[0m\u001b[0mself\u001b[0m\u001b[0;34m.\u001b[0m\u001b[0m_backend\u001b[0m\u001b[0;34m,\u001b[0m \u001b[0mn_jobs\u001b[0m\u001b[0;34m=\u001b[0m\u001b[0mself\u001b[0m\u001b[0;34m.\u001b[0m\u001b[0m_n_jobs\u001b[0m\u001b[0;34m)\u001b[0m\u001b[0;34m:\u001b[0m\u001b[0;34m\u001b[0m\u001b[0;34m\u001b[0m\u001b[0m\n\u001b[1;32m    262\u001b[0m             return [func(*args, **kwargs)\n\u001b[0;32m--> 263\u001b[0;31m                     for func, args, kwargs in self.items]\n\u001b[0m\u001b[1;32m    264\u001b[0m \u001b[0;34m\u001b[0m\u001b[0m\n\u001b[1;32m    265\u001b[0m     \u001b[0;32mdef\u001b[0m \u001b[0m__reduce__\u001b[0m\u001b[0;34m(\u001b[0m\u001b[0mself\u001b[0m\u001b[0;34m)\u001b[0m\u001b[0;34m:\u001b[0m\u001b[0;34m\u001b[0m\u001b[0;34m\u001b[0m\u001b[0m\n",
            "\u001b[0;32m/usr/local/lib/python3.7/dist-packages/sklearn/utils/fixes.py\u001b[0m in \u001b[0;36m__call__\u001b[0;34m(self, *args, **kwargs)\u001b[0m\n\u001b[1;32m    209\u001b[0m     \u001b[0;32mdef\u001b[0m \u001b[0m__call__\u001b[0m\u001b[0;34m(\u001b[0m\u001b[0mself\u001b[0m\u001b[0;34m,\u001b[0m \u001b[0;34m*\u001b[0m\u001b[0margs\u001b[0m\u001b[0;34m,\u001b[0m \u001b[0;34m**\u001b[0m\u001b[0mkwargs\u001b[0m\u001b[0;34m)\u001b[0m\u001b[0;34m:\u001b[0m\u001b[0;34m\u001b[0m\u001b[0;34m\u001b[0m\u001b[0m\n\u001b[1;32m    210\u001b[0m         \u001b[0;32mwith\u001b[0m \u001b[0mconfig_context\u001b[0m\u001b[0;34m(\u001b[0m\u001b[0;34m**\u001b[0m\u001b[0mself\u001b[0m\u001b[0;34m.\u001b[0m\u001b[0mconfig\u001b[0m\u001b[0;34m)\u001b[0m\u001b[0;34m:\u001b[0m\u001b[0;34m\u001b[0m\u001b[0;34m\u001b[0m\u001b[0m\n\u001b[0;32m--> 211\u001b[0;31m             \u001b[0;32mreturn\u001b[0m \u001b[0mself\u001b[0m\u001b[0;34m.\u001b[0m\u001b[0mfunction\u001b[0m\u001b[0;34m(\u001b[0m\u001b[0;34m*\u001b[0m\u001b[0margs\u001b[0m\u001b[0;34m,\u001b[0m \u001b[0;34m**\u001b[0m\u001b[0mkwargs\u001b[0m\u001b[0;34m)\u001b[0m\u001b[0;34m\u001b[0m\u001b[0;34m\u001b[0m\u001b[0m\n\u001b[0m\u001b[1;32m    212\u001b[0m \u001b[0;34m\u001b[0m\u001b[0m\n\u001b[1;32m    213\u001b[0m \u001b[0;34m\u001b[0m\u001b[0m\n",
            "\u001b[0;32m/usr/local/lib/python3.7/dist-packages/sklearn/model_selection/_validation.py\u001b[0m in \u001b[0;36m_fit_and_score\u001b[0;34m(estimator, X, y, scorer, train, test, verbose, parameters, fit_params, return_train_score, return_parameters, return_n_test_samples, return_times, return_estimator, split_progress, candidate_progress, error_score)\u001b[0m\n\u001b[1;32m    679\u001b[0m             \u001b[0mestimator\u001b[0m\u001b[0;34m.\u001b[0m\u001b[0mfit\u001b[0m\u001b[0;34m(\u001b[0m\u001b[0mX_train\u001b[0m\u001b[0;34m,\u001b[0m \u001b[0;34m**\u001b[0m\u001b[0mfit_params\u001b[0m\u001b[0;34m)\u001b[0m\u001b[0;34m\u001b[0m\u001b[0;34m\u001b[0m\u001b[0m\n\u001b[1;32m    680\u001b[0m         \u001b[0;32melse\u001b[0m\u001b[0;34m:\u001b[0m\u001b[0;34m\u001b[0m\u001b[0;34m\u001b[0m\u001b[0m\n\u001b[0;32m--> 681\u001b[0;31m             \u001b[0mestimator\u001b[0m\u001b[0;34m.\u001b[0m\u001b[0mfit\u001b[0m\u001b[0;34m(\u001b[0m\u001b[0mX_train\u001b[0m\u001b[0;34m,\u001b[0m \u001b[0my_train\u001b[0m\u001b[0;34m,\u001b[0m \u001b[0;34m**\u001b[0m\u001b[0mfit_params\u001b[0m\u001b[0;34m)\u001b[0m\u001b[0;34m\u001b[0m\u001b[0;34m\u001b[0m\u001b[0m\n\u001b[0m\u001b[1;32m    682\u001b[0m \u001b[0;34m\u001b[0m\u001b[0m\n\u001b[1;32m    683\u001b[0m     \u001b[0;32mexcept\u001b[0m \u001b[0mException\u001b[0m\u001b[0;34m:\u001b[0m\u001b[0;34m\u001b[0m\u001b[0;34m\u001b[0m\u001b[0m\n",
            "\u001b[0;32m/usr/local/lib/python3.7/dist-packages/sklearn/ensemble/_weight_boosting.py\u001b[0m in \u001b[0;36mfit\u001b[0;34m(self, X, y, sample_weight)\u001b[0m\n\u001b[1;32m    484\u001b[0m \u001b[0;34m\u001b[0m\u001b[0m\n\u001b[1;32m    485\u001b[0m         \u001b[0;31m# Fit\u001b[0m\u001b[0;34m\u001b[0m\u001b[0;34m\u001b[0m\u001b[0;34m\u001b[0m\u001b[0m\n\u001b[0;32m--> 486\u001b[0;31m         \u001b[0;32mreturn\u001b[0m \u001b[0msuper\u001b[0m\u001b[0;34m(\u001b[0m\u001b[0;34m)\u001b[0m\u001b[0;34m.\u001b[0m\u001b[0mfit\u001b[0m\u001b[0;34m(\u001b[0m\u001b[0mX\u001b[0m\u001b[0;34m,\u001b[0m \u001b[0my\u001b[0m\u001b[0;34m,\u001b[0m \u001b[0msample_weight\u001b[0m\u001b[0;34m)\u001b[0m\u001b[0;34m\u001b[0m\u001b[0;34m\u001b[0m\u001b[0m\n\u001b[0m\u001b[1;32m    487\u001b[0m \u001b[0;34m\u001b[0m\u001b[0m\n\u001b[1;32m    488\u001b[0m     \u001b[0;32mdef\u001b[0m \u001b[0m_validate_estimator\u001b[0m\u001b[0;34m(\u001b[0m\u001b[0mself\u001b[0m\u001b[0;34m)\u001b[0m\u001b[0;34m:\u001b[0m\u001b[0;34m\u001b[0m\u001b[0;34m\u001b[0m\u001b[0m\n",
            "\u001b[0;32m/usr/local/lib/python3.7/dist-packages/sklearn/ensemble/_weight_boosting.py\u001b[0m in \u001b[0;36mfit\u001b[0;34m(self, X, y, sample_weight)\u001b[0m\n\u001b[1;32m    144\u001b[0m             \u001b[0;31m# Boosting step\u001b[0m\u001b[0;34m\u001b[0m\u001b[0;34m\u001b[0m\u001b[0;34m\u001b[0m\u001b[0m\n\u001b[1;32m    145\u001b[0m             sample_weight, estimator_weight, estimator_error = self._boost(\n\u001b[0;32m--> 146\u001b[0;31m                 \u001b[0miboost\u001b[0m\u001b[0;34m,\u001b[0m \u001b[0mX\u001b[0m\u001b[0;34m,\u001b[0m \u001b[0my\u001b[0m\u001b[0;34m,\u001b[0m \u001b[0msample_weight\u001b[0m\u001b[0;34m,\u001b[0m \u001b[0mrandom_state\u001b[0m\u001b[0;34m\u001b[0m\u001b[0;34m\u001b[0m\u001b[0m\n\u001b[0m\u001b[1;32m    147\u001b[0m             )\n\u001b[1;32m    148\u001b[0m \u001b[0;34m\u001b[0m\u001b[0m\n",
            "\u001b[0;32m/usr/local/lib/python3.7/dist-packages/sklearn/ensemble/_weight_boosting.py\u001b[0m in \u001b[0;36m_boost\u001b[0;34m(self, iboost, X, y, sample_weight, random_state)\u001b[0m\n\u001b[1;32m    546\u001b[0m         \"\"\"\n\u001b[1;32m    547\u001b[0m         \u001b[0;32mif\u001b[0m \u001b[0mself\u001b[0m\u001b[0;34m.\u001b[0m\u001b[0malgorithm\u001b[0m \u001b[0;34m==\u001b[0m \u001b[0;34m\"SAMME.R\"\u001b[0m\u001b[0;34m:\u001b[0m\u001b[0;34m\u001b[0m\u001b[0;34m\u001b[0m\u001b[0m\n\u001b[0;32m--> 548\u001b[0;31m             \u001b[0;32mreturn\u001b[0m \u001b[0mself\u001b[0m\u001b[0;34m.\u001b[0m\u001b[0m_boost_real\u001b[0m\u001b[0;34m(\u001b[0m\u001b[0miboost\u001b[0m\u001b[0;34m,\u001b[0m \u001b[0mX\u001b[0m\u001b[0;34m,\u001b[0m \u001b[0my\u001b[0m\u001b[0;34m,\u001b[0m \u001b[0msample_weight\u001b[0m\u001b[0;34m,\u001b[0m \u001b[0mrandom_state\u001b[0m\u001b[0;34m)\u001b[0m\u001b[0;34m\u001b[0m\u001b[0;34m\u001b[0m\u001b[0m\n\u001b[0m\u001b[1;32m    549\u001b[0m \u001b[0;34m\u001b[0m\u001b[0m\n\u001b[1;32m    550\u001b[0m         \u001b[0;32melse\u001b[0m\u001b[0;34m:\u001b[0m  \u001b[0;31m# elif self.algorithm == \"SAMME\":\u001b[0m\u001b[0;34m\u001b[0m\u001b[0;34m\u001b[0m\u001b[0m\n",
            "\u001b[0;32m/usr/local/lib/python3.7/dist-packages/sklearn/ensemble/_weight_boosting.py\u001b[0m in \u001b[0;36m_boost_real\u001b[0;34m(self, iboost, X, y, sample_weight, random_state)\u001b[0m\n\u001b[1;32m    555\u001b[0m         \u001b[0mestimator\u001b[0m \u001b[0;34m=\u001b[0m \u001b[0mself\u001b[0m\u001b[0;34m.\u001b[0m\u001b[0m_make_estimator\u001b[0m\u001b[0;34m(\u001b[0m\u001b[0mrandom_state\u001b[0m\u001b[0;34m=\u001b[0m\u001b[0mrandom_state\u001b[0m\u001b[0;34m)\u001b[0m\u001b[0;34m\u001b[0m\u001b[0;34m\u001b[0m\u001b[0m\n\u001b[1;32m    556\u001b[0m \u001b[0;34m\u001b[0m\u001b[0m\n\u001b[0;32m--> 557\u001b[0;31m         \u001b[0mestimator\u001b[0m\u001b[0;34m.\u001b[0m\u001b[0mfit\u001b[0m\u001b[0;34m(\u001b[0m\u001b[0mX\u001b[0m\u001b[0;34m,\u001b[0m \u001b[0my\u001b[0m\u001b[0;34m,\u001b[0m \u001b[0msample_weight\u001b[0m\u001b[0;34m=\u001b[0m\u001b[0msample_weight\u001b[0m\u001b[0;34m)\u001b[0m\u001b[0;34m\u001b[0m\u001b[0;34m\u001b[0m\u001b[0m\n\u001b[0m\u001b[1;32m    558\u001b[0m \u001b[0;34m\u001b[0m\u001b[0m\n\u001b[1;32m    559\u001b[0m         \u001b[0my_predict_proba\u001b[0m \u001b[0;34m=\u001b[0m \u001b[0mestimator\u001b[0m\u001b[0;34m.\u001b[0m\u001b[0mpredict_proba\u001b[0m\u001b[0;34m(\u001b[0m\u001b[0mX\u001b[0m\u001b[0;34m)\u001b[0m\u001b[0;34m\u001b[0m\u001b[0;34m\u001b[0m\u001b[0m\n",
            "\u001b[0;32m/usr/local/lib/python3.7/dist-packages/sklearn/tree/_classes.py\u001b[0m in \u001b[0;36mfit\u001b[0;34m(self, X, y, sample_weight, check_input, X_idx_sorted)\u001b[0m\n\u001b[1;32m    940\u001b[0m             \u001b[0msample_weight\u001b[0m\u001b[0;34m=\u001b[0m\u001b[0msample_weight\u001b[0m\u001b[0;34m,\u001b[0m\u001b[0;34m\u001b[0m\u001b[0;34m\u001b[0m\u001b[0m\n\u001b[1;32m    941\u001b[0m             \u001b[0mcheck_input\u001b[0m\u001b[0;34m=\u001b[0m\u001b[0mcheck_input\u001b[0m\u001b[0;34m,\u001b[0m\u001b[0;34m\u001b[0m\u001b[0;34m\u001b[0m\u001b[0m\n\u001b[0;32m--> 942\u001b[0;31m             \u001b[0mX_idx_sorted\u001b[0m\u001b[0;34m=\u001b[0m\u001b[0mX_idx_sorted\u001b[0m\u001b[0;34m,\u001b[0m\u001b[0;34m\u001b[0m\u001b[0;34m\u001b[0m\u001b[0m\n\u001b[0m\u001b[1;32m    943\u001b[0m         )\n\u001b[1;32m    944\u001b[0m         \u001b[0;32mreturn\u001b[0m \u001b[0mself\u001b[0m\u001b[0;34m\u001b[0m\u001b[0;34m\u001b[0m\u001b[0m\n",
            "\u001b[0;32m/usr/local/lib/python3.7/dist-packages/sklearn/tree/_classes.py\u001b[0m in \u001b[0;36mfit\u001b[0;34m(self, X, y, sample_weight, check_input, X_idx_sorted)\u001b[0m\n\u001b[1;32m    164\u001b[0m             \u001b[0mcheck_y_params\u001b[0m \u001b[0;34m=\u001b[0m \u001b[0mdict\u001b[0m\u001b[0;34m(\u001b[0m\u001b[0mensure_2d\u001b[0m\u001b[0;34m=\u001b[0m\u001b[0;32mFalse\u001b[0m\u001b[0;34m,\u001b[0m \u001b[0mdtype\u001b[0m\u001b[0;34m=\u001b[0m\u001b[0;32mNone\u001b[0m\u001b[0;34m)\u001b[0m\u001b[0;34m\u001b[0m\u001b[0;34m\u001b[0m\u001b[0m\n\u001b[1;32m    165\u001b[0m             X, y = self._validate_data(\n\u001b[0;32m--> 166\u001b[0;31m                 \u001b[0mX\u001b[0m\u001b[0;34m,\u001b[0m \u001b[0my\u001b[0m\u001b[0;34m,\u001b[0m \u001b[0mvalidate_separately\u001b[0m\u001b[0;34m=\u001b[0m\u001b[0;34m(\u001b[0m\u001b[0mcheck_X_params\u001b[0m\u001b[0;34m,\u001b[0m \u001b[0mcheck_y_params\u001b[0m\u001b[0;34m)\u001b[0m\u001b[0;34m\u001b[0m\u001b[0;34m\u001b[0m\u001b[0m\n\u001b[0m\u001b[1;32m    167\u001b[0m             )\n\u001b[1;32m    168\u001b[0m             \u001b[0;32mif\u001b[0m \u001b[0missparse\u001b[0m\u001b[0;34m(\u001b[0m\u001b[0mX\u001b[0m\u001b[0;34m)\u001b[0m\u001b[0;34m:\u001b[0m\u001b[0;34m\u001b[0m\u001b[0;34m\u001b[0m\u001b[0m\n",
            "\u001b[0;32m/usr/local/lib/python3.7/dist-packages/sklearn/base.py\u001b[0m in \u001b[0;36m_validate_data\u001b[0;34m(self, X, y, reset, validate_separately, **check_params)\u001b[0m\n\u001b[1;32m    571\u001b[0m                 \u001b[0;31m# :(\u001b[0m\u001b[0;34m\u001b[0m\u001b[0;34m\u001b[0m\u001b[0;34m\u001b[0m\u001b[0m\n\u001b[1;32m    572\u001b[0m                 \u001b[0mcheck_X_params\u001b[0m\u001b[0;34m,\u001b[0m \u001b[0mcheck_y_params\u001b[0m \u001b[0;34m=\u001b[0m \u001b[0mvalidate_separately\u001b[0m\u001b[0;34m\u001b[0m\u001b[0;34m\u001b[0m\u001b[0m\n\u001b[0;32m--> 573\u001b[0;31m                 \u001b[0mX\u001b[0m \u001b[0;34m=\u001b[0m \u001b[0mcheck_array\u001b[0m\u001b[0;34m(\u001b[0m\u001b[0mX\u001b[0m\u001b[0;34m,\u001b[0m \u001b[0;34m**\u001b[0m\u001b[0mcheck_X_params\u001b[0m\u001b[0;34m)\u001b[0m\u001b[0;34m\u001b[0m\u001b[0;34m\u001b[0m\u001b[0m\n\u001b[0m\u001b[1;32m    574\u001b[0m                 \u001b[0my\u001b[0m \u001b[0;34m=\u001b[0m \u001b[0mcheck_array\u001b[0m\u001b[0;34m(\u001b[0m\u001b[0my\u001b[0m\u001b[0;34m,\u001b[0m \u001b[0;34m**\u001b[0m\u001b[0mcheck_y_params\u001b[0m\u001b[0;34m)\u001b[0m\u001b[0;34m\u001b[0m\u001b[0;34m\u001b[0m\u001b[0m\n\u001b[1;32m    575\u001b[0m             \u001b[0;32melse\u001b[0m\u001b[0;34m:\u001b[0m\u001b[0;34m\u001b[0m\u001b[0;34m\u001b[0m\u001b[0m\n",
            "\u001b[0;32m/usr/local/lib/python3.7/dist-packages/sklearn/utils/validation.py\u001b[0m in \u001b[0;36mcheck_array\u001b[0;34m(array, accept_sparse, accept_large_sparse, dtype, order, copy, force_all_finite, ensure_2d, allow_nd, ensure_min_samples, ensure_min_features, estimator)\u001b[0m\n\u001b[1;32m    736\u001b[0m                     \u001b[0marray\u001b[0m \u001b[0;34m=\u001b[0m \u001b[0marray\u001b[0m\u001b[0;34m.\u001b[0m\u001b[0mastype\u001b[0m\u001b[0;34m(\u001b[0m\u001b[0mdtype\u001b[0m\u001b[0;34m,\u001b[0m \u001b[0mcasting\u001b[0m\u001b[0;34m=\u001b[0m\u001b[0;34m\"unsafe\"\u001b[0m\u001b[0;34m,\u001b[0m \u001b[0mcopy\u001b[0m\u001b[0;34m=\u001b[0m\u001b[0;32mFalse\u001b[0m\u001b[0;34m)\u001b[0m\u001b[0;34m\u001b[0m\u001b[0;34m\u001b[0m\u001b[0m\n\u001b[1;32m    737\u001b[0m                 \u001b[0;32melse\u001b[0m\u001b[0;34m:\u001b[0m\u001b[0;34m\u001b[0m\u001b[0;34m\u001b[0m\u001b[0m\n\u001b[0;32m--> 738\u001b[0;31m                     \u001b[0marray\u001b[0m \u001b[0;34m=\u001b[0m \u001b[0mnp\u001b[0m\u001b[0;34m.\u001b[0m\u001b[0masarray\u001b[0m\u001b[0;34m(\u001b[0m\u001b[0marray\u001b[0m\u001b[0;34m,\u001b[0m \u001b[0morder\u001b[0m\u001b[0;34m=\u001b[0m\u001b[0morder\u001b[0m\u001b[0;34m,\u001b[0m \u001b[0mdtype\u001b[0m\u001b[0;34m=\u001b[0m\u001b[0mdtype\u001b[0m\u001b[0;34m)\u001b[0m\u001b[0;34m\u001b[0m\u001b[0;34m\u001b[0m\u001b[0m\n\u001b[0m\u001b[1;32m    739\u001b[0m             \u001b[0;32mexcept\u001b[0m \u001b[0mComplexWarning\u001b[0m \u001b[0;32mas\u001b[0m \u001b[0mcomplex_warning\u001b[0m\u001b[0;34m:\u001b[0m\u001b[0;34m\u001b[0m\u001b[0;34m\u001b[0m\u001b[0m\n\u001b[1;32m    740\u001b[0m                 raise ValueError(\n",
            "\u001b[0;32m/usr/local/lib/python3.7/dist-packages/numpy/core/_asarray.py\u001b[0m in \u001b[0;36masarray\u001b[0;34m(a, dtype, order)\u001b[0m\n\u001b[1;32m     81\u001b[0m \u001b[0;34m\u001b[0m\u001b[0m\n\u001b[1;32m     82\u001b[0m     \"\"\"\n\u001b[0;32m---> 83\u001b[0;31m     \u001b[0;32mreturn\u001b[0m \u001b[0marray\u001b[0m\u001b[0;34m(\u001b[0m\u001b[0ma\u001b[0m\u001b[0;34m,\u001b[0m \u001b[0mdtype\u001b[0m\u001b[0;34m,\u001b[0m \u001b[0mcopy\u001b[0m\u001b[0;34m=\u001b[0m\u001b[0;32mFalse\u001b[0m\u001b[0;34m,\u001b[0m \u001b[0morder\u001b[0m\u001b[0;34m=\u001b[0m\u001b[0morder\u001b[0m\u001b[0;34m)\u001b[0m\u001b[0;34m\u001b[0m\u001b[0;34m\u001b[0m\u001b[0m\n\u001b[0m\u001b[1;32m     84\u001b[0m \u001b[0;34m\u001b[0m\u001b[0m\n\u001b[1;32m     85\u001b[0m \u001b[0;34m\u001b[0m\u001b[0m\n",
            "\u001b[0;31mKeyboardInterrupt\u001b[0m: "
          ]
        }
      ]
    },
    {
      "cell_type": "code",
      "source": [
        "#print(clf.n_classes_)\n",
        "print(clf.n_estimators)"
      ],
      "metadata": {
        "colab": {
          "base_uri": "https://localhost:8080/"
        },
        "id": "_TgP2X6os-gR",
        "outputId": "9db06b7f-02f0-4f1d-b3d1-5671bc72730a"
      },
      "execution_count": null,
      "outputs": [
        {
          "output_type": "stream",
          "name": "stdout",
          "text": [
            "200\n"
          ]
        }
      ]
    },
    {
      "cell_type": "code",
      "source": [
        "clf = GradientBoostingClassifier(n_estimators=100, learning_rate=0.3, max_depth=5, random_state=0, subsample=0.1)\n",
        "score = cross_val_score(clf, dataset.X(), dataset.Y(), cv=3, verbose=10).mean()\n",
        "print(score)\n"
      ],
      "metadata": {
        "id": "NV02iilzheDH"
      },
      "execution_count": null,
      "outputs": []
    },
    {
      "cell_type": "code",
      "source": [
        "clf.fit(dataset.X(), dataset.Y())"
      ],
      "metadata": {
        "colab": {
          "base_uri": "https://localhost:8080/"
        },
        "id": "TjPqouJ2i4hX",
        "outputId": "98b98dd2-a3d8-4d2e-c120-e175e8193a0d"
      },
      "execution_count": null,
      "outputs": [
        {
          "output_type": "stream",
          "name": "stdout",
          "text": [
            "(1000000, 1)\n",
            "(1000000, 1)\n"
          ]
        }
      ]
    }
  ]
}